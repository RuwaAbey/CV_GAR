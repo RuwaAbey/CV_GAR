{
  "nbformat": 4,
  "nbformat_minor": 0,
  "metadata": {
    "colab": {
      "provenance": [],
      "gpuType": "T4",
      "authorship_tag": "ABX9TyNBug81pkeEVTqXSEcpe7Yd",
      "include_colab_link": true
    },
    "kernelspec": {
      "name": "python3",
      "display_name": "Python 3"
    },
    "language_info": {
      "name": "python"
    },
    "accelerator": "GPU",
    "widgets": {
      "application/vnd.jupyter.widget-state+json": {
        "d04e5c47bcea4cfe8e8ff41eec1feaa3": {
          "model_module": "@jupyter-widgets/controls",
          "model_name": "HBoxModel",
          "model_module_version": "1.5.0",
          "state": {
            "_dom_classes": [],
            "_model_module": "@jupyter-widgets/controls",
            "_model_module_version": "1.5.0",
            "_model_name": "HBoxModel",
            "_view_count": null,
            "_view_module": "@jupyter-widgets/controls",
            "_view_module_version": "1.5.0",
            "_view_name": "HBoxView",
            "box_style": "",
            "children": [
              "IPY_MODEL_a33e790686af4e5ab2fdd13ef22abb64",
              "IPY_MODEL_1d4a7d08391343fdb9a3c514aac88f7a",
              "IPY_MODEL_cd2c956d2179435a95fbaa4102f44d34"
            ],
            "layout": "IPY_MODEL_047c982be94a43d884f438b78d9137c8"
          }
        },
        "a33e790686af4e5ab2fdd13ef22abb64": {
          "model_module": "@jupyter-widgets/controls",
          "model_name": "HTMLModel",
          "model_module_version": "1.5.0",
          "state": {
            "_dom_classes": [],
            "_model_module": "@jupyter-widgets/controls",
            "_model_module_version": "1.5.0",
            "_model_name": "HTMLModel",
            "_view_count": null,
            "_view_module": "@jupyter-widgets/controls",
            "_view_module_version": "1.5.0",
            "_view_name": "HTMLView",
            "description": "",
            "description_tooltip": null,
            "layout": "IPY_MODEL_cbb20d1f394f4ea1b0feac41a7715bb7",
            "placeholder": "​",
            "style": "IPY_MODEL_71f997ca349247e7aec11324cc845f38",
            "value": "100%"
          }
        },
        "1d4a7d08391343fdb9a3c514aac88f7a": {
          "model_module": "@jupyter-widgets/controls",
          "model_name": "FloatProgressModel",
          "model_module_version": "1.5.0",
          "state": {
            "_dom_classes": [],
            "_model_module": "@jupyter-widgets/controls",
            "_model_module_version": "1.5.0",
            "_model_name": "FloatProgressModel",
            "_view_count": null,
            "_view_module": "@jupyter-widgets/controls",
            "_view_module_version": "1.5.0",
            "_view_name": "ProgressView",
            "bar_style": "success",
            "description": "",
            "description_tooltip": null,
            "layout": "IPY_MODEL_54796388f5da4750ad682f56e9652b94",
            "max": 165671301,
            "min": 0,
            "orientation": "horizontal",
            "style": "IPY_MODEL_455962c2d6c6436e86ef5bfc550965aa",
            "value": 165671301
          }
        },
        "cd2c956d2179435a95fbaa4102f44d34": {
          "model_module": "@jupyter-widgets/controls",
          "model_name": "HTMLModel",
          "model_module_version": "1.5.0",
          "state": {
            "_dom_classes": [],
            "_model_module": "@jupyter-widgets/controls",
            "_model_module_version": "1.5.0",
            "_model_name": "HTMLModel",
            "_view_count": null,
            "_view_module": "@jupyter-widgets/controls",
            "_view_module_version": "1.5.0",
            "_view_name": "HTMLView",
            "description": "",
            "description_tooltip": null,
            "layout": "IPY_MODEL_72273f51deff48b5b48e494a6bfd7a1e",
            "placeholder": "​",
            "style": "IPY_MODEL_f0298ab1773b4aa4834967c61184a091",
            "value": " 158M/158M [00:07&lt;00:00, 24.6MB/s]"
          }
        },
        "047c982be94a43d884f438b78d9137c8": {
          "model_module": "@jupyter-widgets/base",
          "model_name": "LayoutModel",
          "model_module_version": "1.2.0",
          "state": {
            "_model_module": "@jupyter-widgets/base",
            "_model_module_version": "1.2.0",
            "_model_name": "LayoutModel",
            "_view_count": null,
            "_view_module": "@jupyter-widgets/base",
            "_view_module_version": "1.2.0",
            "_view_name": "LayoutView",
            "align_content": null,
            "align_items": null,
            "align_self": null,
            "border": null,
            "bottom": null,
            "display": null,
            "flex": null,
            "flex_flow": null,
            "grid_area": null,
            "grid_auto_columns": null,
            "grid_auto_flow": null,
            "grid_auto_rows": null,
            "grid_column": null,
            "grid_gap": null,
            "grid_row": null,
            "grid_template_areas": null,
            "grid_template_columns": null,
            "grid_template_rows": null,
            "height": null,
            "justify_content": null,
            "justify_items": null,
            "left": null,
            "margin": null,
            "max_height": null,
            "max_width": null,
            "min_height": null,
            "min_width": null,
            "object_fit": null,
            "object_position": null,
            "order": null,
            "overflow": null,
            "overflow_x": null,
            "overflow_y": null,
            "padding": null,
            "right": null,
            "top": null,
            "visibility": null,
            "width": null
          }
        },
        "cbb20d1f394f4ea1b0feac41a7715bb7": {
          "model_module": "@jupyter-widgets/base",
          "model_name": "LayoutModel",
          "model_module_version": "1.2.0",
          "state": {
            "_model_module": "@jupyter-widgets/base",
            "_model_module_version": "1.2.0",
            "_model_name": "LayoutModel",
            "_view_count": null,
            "_view_module": "@jupyter-widgets/base",
            "_view_module_version": "1.2.0",
            "_view_name": "LayoutView",
            "align_content": null,
            "align_items": null,
            "align_self": null,
            "border": null,
            "bottom": null,
            "display": null,
            "flex": null,
            "flex_flow": null,
            "grid_area": null,
            "grid_auto_columns": null,
            "grid_auto_flow": null,
            "grid_auto_rows": null,
            "grid_column": null,
            "grid_gap": null,
            "grid_row": null,
            "grid_template_areas": null,
            "grid_template_columns": null,
            "grid_template_rows": null,
            "height": null,
            "justify_content": null,
            "justify_items": null,
            "left": null,
            "margin": null,
            "max_height": null,
            "max_width": null,
            "min_height": null,
            "min_width": null,
            "object_fit": null,
            "object_position": null,
            "order": null,
            "overflow": null,
            "overflow_x": null,
            "overflow_y": null,
            "padding": null,
            "right": null,
            "top": null,
            "visibility": null,
            "width": null
          }
        },
        "71f997ca349247e7aec11324cc845f38": {
          "model_module": "@jupyter-widgets/controls",
          "model_name": "DescriptionStyleModel",
          "model_module_version": "1.5.0",
          "state": {
            "_model_module": "@jupyter-widgets/controls",
            "_model_module_version": "1.5.0",
            "_model_name": "DescriptionStyleModel",
            "_view_count": null,
            "_view_module": "@jupyter-widgets/base",
            "_view_module_version": "1.2.0",
            "_view_name": "StyleView",
            "description_width": ""
          }
        },
        "54796388f5da4750ad682f56e9652b94": {
          "model_module": "@jupyter-widgets/base",
          "model_name": "LayoutModel",
          "model_module_version": "1.2.0",
          "state": {
            "_model_module": "@jupyter-widgets/base",
            "_model_module_version": "1.2.0",
            "_model_name": "LayoutModel",
            "_view_count": null,
            "_view_module": "@jupyter-widgets/base",
            "_view_module_version": "1.2.0",
            "_view_name": "LayoutView",
            "align_content": null,
            "align_items": null,
            "align_self": null,
            "border": null,
            "bottom": null,
            "display": null,
            "flex": null,
            "flex_flow": null,
            "grid_area": null,
            "grid_auto_columns": null,
            "grid_auto_flow": null,
            "grid_auto_rows": null,
            "grid_column": null,
            "grid_gap": null,
            "grid_row": null,
            "grid_template_areas": null,
            "grid_template_columns": null,
            "grid_template_rows": null,
            "height": null,
            "justify_content": null,
            "justify_items": null,
            "left": null,
            "margin": null,
            "max_height": null,
            "max_width": null,
            "min_height": null,
            "min_width": null,
            "object_fit": null,
            "object_position": null,
            "order": null,
            "overflow": null,
            "overflow_x": null,
            "overflow_y": null,
            "padding": null,
            "right": null,
            "top": null,
            "visibility": null,
            "width": null
          }
        },
        "455962c2d6c6436e86ef5bfc550965aa": {
          "model_module": "@jupyter-widgets/controls",
          "model_name": "ProgressStyleModel",
          "model_module_version": "1.5.0",
          "state": {
            "_model_module": "@jupyter-widgets/controls",
            "_model_module_version": "1.5.0",
            "_model_name": "ProgressStyleModel",
            "_view_count": null,
            "_view_module": "@jupyter-widgets/base",
            "_view_module_version": "1.2.0",
            "_view_name": "StyleView",
            "bar_color": null,
            "description_width": ""
          }
        },
        "72273f51deff48b5b48e494a6bfd7a1e": {
          "model_module": "@jupyter-widgets/base",
          "model_name": "LayoutModel",
          "model_module_version": "1.2.0",
          "state": {
            "_model_module": "@jupyter-widgets/base",
            "_model_module_version": "1.2.0",
            "_model_name": "LayoutModel",
            "_view_count": null,
            "_view_module": "@jupyter-widgets/base",
            "_view_module_version": "1.2.0",
            "_view_name": "LayoutView",
            "align_content": null,
            "align_items": null,
            "align_self": null,
            "border": null,
            "bottom": null,
            "display": null,
            "flex": null,
            "flex_flow": null,
            "grid_area": null,
            "grid_auto_columns": null,
            "grid_auto_flow": null,
            "grid_auto_rows": null,
            "grid_column": null,
            "grid_gap": null,
            "grid_row": null,
            "grid_template_areas": null,
            "grid_template_columns": null,
            "grid_template_rows": null,
            "height": null,
            "justify_content": null,
            "justify_items": null,
            "left": null,
            "margin": null,
            "max_height": null,
            "max_width": null,
            "min_height": null,
            "min_width": null,
            "object_fit": null,
            "object_position": null,
            "order": null,
            "overflow": null,
            "overflow_x": null,
            "overflow_y": null,
            "padding": null,
            "right": null,
            "top": null,
            "visibility": null,
            "width": null
          }
        },
        "f0298ab1773b4aa4834967c61184a091": {
          "model_module": "@jupyter-widgets/controls",
          "model_name": "DescriptionStyleModel",
          "model_module_version": "1.5.0",
          "state": {
            "_model_module": "@jupyter-widgets/controls",
            "_model_module_version": "1.5.0",
            "_model_name": "DescriptionStyleModel",
            "_view_count": null,
            "_view_module": "@jupyter-widgets/base",
            "_view_module_version": "1.2.0",
            "_view_name": "StyleView",
            "description_width": ""
          }
        },
        "219b80008d0540689600685f0daadcf1": {
          "model_module": "@jupyter-widgets/controls",
          "model_name": "HBoxModel",
          "model_module_version": "1.5.0",
          "state": {
            "_dom_classes": [],
            "_model_module": "@jupyter-widgets/controls",
            "_model_module_version": "1.5.0",
            "_model_name": "HBoxModel",
            "_view_count": null,
            "_view_module": "@jupyter-widgets/controls",
            "_view_module_version": "1.5.0",
            "_view_name": "HBoxView",
            "box_style": "",
            "children": [
              "IPY_MODEL_87ec5d56e6d643eba1f64c480c089281",
              "IPY_MODEL_be606586c64f413eb6bce2fe92053880",
              "IPY_MODEL_bc35e4ce9eae4ce691f98518f8e325b7"
            ],
            "layout": "IPY_MODEL_91ed24dc094242f5bd98d87b274f9482"
          }
        },
        "87ec5d56e6d643eba1f64c480c089281": {
          "model_module": "@jupyter-widgets/controls",
          "model_name": "HTMLModel",
          "model_module_version": "1.5.0",
          "state": {
            "_dom_classes": [],
            "_model_module": "@jupyter-widgets/controls",
            "_model_module_version": "1.5.0",
            "_model_name": "HTMLModel",
            "_view_count": null,
            "_view_module": "@jupyter-widgets/controls",
            "_view_module_version": "1.5.0",
            "_view_name": "HTMLView",
            "description": "",
            "description_tooltip": null,
            "layout": "IPY_MODEL_55675a6fa9fa4a65a84bf5ba5fc78435",
            "placeholder": "​",
            "style": "IPY_MODEL_bc4b2dcabe6348d48ce954dbfd854a09",
            "value": "100%"
          }
        },
        "be606586c64f413eb6bce2fe92053880": {
          "model_module": "@jupyter-widgets/controls",
          "model_name": "FloatProgressModel",
          "model_module_version": "1.5.0",
          "state": {
            "_dom_classes": [],
            "_model_module": "@jupyter-widgets/controls",
            "_model_module_version": "1.5.0",
            "_model_name": "FloatProgressModel",
            "_view_count": null,
            "_view_module": "@jupyter-widgets/controls",
            "_view_module_version": "1.5.0",
            "_view_name": "ProgressView",
            "bar_style": "success",
            "description": "",
            "description_tooltip": null,
            "layout": "IPY_MODEL_fe8955f7b3394371a100da8e2e7fcc55",
            "max": 114671987,
            "min": 0,
            "orientation": "horizontal",
            "style": "IPY_MODEL_3f5cf7317c124730aeb1297c717942e3",
            "value": 114671987
          }
        },
        "bc35e4ce9eae4ce691f98518f8e325b7": {
          "model_module": "@jupyter-widgets/controls",
          "model_name": "HTMLModel",
          "model_module_version": "1.5.0",
          "state": {
            "_dom_classes": [],
            "_model_module": "@jupyter-widgets/controls",
            "_model_module_version": "1.5.0",
            "_model_name": "HTMLModel",
            "_view_count": null,
            "_view_module": "@jupyter-widgets/controls",
            "_view_module_version": "1.5.0",
            "_view_name": "HTMLView",
            "description": "",
            "description_tooltip": null,
            "layout": "IPY_MODEL_d97a3ed8d5644e13a61ab6e391c83db7",
            "placeholder": "​",
            "style": "IPY_MODEL_e11bcbff60764c2ea7c320d543c767e9",
            "value": " 109M/109M [00:04&lt;00:00, 26.0MB/s]"
          }
        },
        "91ed24dc094242f5bd98d87b274f9482": {
          "model_module": "@jupyter-widgets/base",
          "model_name": "LayoutModel",
          "model_module_version": "1.2.0",
          "state": {
            "_model_module": "@jupyter-widgets/base",
            "_model_module_version": "1.2.0",
            "_model_name": "LayoutModel",
            "_view_count": null,
            "_view_module": "@jupyter-widgets/base",
            "_view_module_version": "1.2.0",
            "_view_name": "LayoutView",
            "align_content": null,
            "align_items": null,
            "align_self": null,
            "border": null,
            "bottom": null,
            "display": null,
            "flex": null,
            "flex_flow": null,
            "grid_area": null,
            "grid_auto_columns": null,
            "grid_auto_flow": null,
            "grid_auto_rows": null,
            "grid_column": null,
            "grid_gap": null,
            "grid_row": null,
            "grid_template_areas": null,
            "grid_template_columns": null,
            "grid_template_rows": null,
            "height": null,
            "justify_content": null,
            "justify_items": null,
            "left": null,
            "margin": null,
            "max_height": null,
            "max_width": null,
            "min_height": null,
            "min_width": null,
            "object_fit": null,
            "object_position": null,
            "order": null,
            "overflow": null,
            "overflow_x": null,
            "overflow_y": null,
            "padding": null,
            "right": null,
            "top": null,
            "visibility": null,
            "width": null
          }
        },
        "55675a6fa9fa4a65a84bf5ba5fc78435": {
          "model_module": "@jupyter-widgets/base",
          "model_name": "LayoutModel",
          "model_module_version": "1.2.0",
          "state": {
            "_model_module": "@jupyter-widgets/base",
            "_model_module_version": "1.2.0",
            "_model_name": "LayoutModel",
            "_view_count": null,
            "_view_module": "@jupyter-widgets/base",
            "_view_module_version": "1.2.0",
            "_view_name": "LayoutView",
            "align_content": null,
            "align_items": null,
            "align_self": null,
            "border": null,
            "bottom": null,
            "display": null,
            "flex": null,
            "flex_flow": null,
            "grid_area": null,
            "grid_auto_columns": null,
            "grid_auto_flow": null,
            "grid_auto_rows": null,
            "grid_column": null,
            "grid_gap": null,
            "grid_row": null,
            "grid_template_areas": null,
            "grid_template_columns": null,
            "grid_template_rows": null,
            "height": null,
            "justify_content": null,
            "justify_items": null,
            "left": null,
            "margin": null,
            "max_height": null,
            "max_width": null,
            "min_height": null,
            "min_width": null,
            "object_fit": null,
            "object_position": null,
            "order": null,
            "overflow": null,
            "overflow_x": null,
            "overflow_y": null,
            "padding": null,
            "right": null,
            "top": null,
            "visibility": null,
            "width": null
          }
        },
        "bc4b2dcabe6348d48ce954dbfd854a09": {
          "model_module": "@jupyter-widgets/controls",
          "model_name": "DescriptionStyleModel",
          "model_module_version": "1.5.0",
          "state": {
            "_model_module": "@jupyter-widgets/controls",
            "_model_module_version": "1.5.0",
            "_model_name": "DescriptionStyleModel",
            "_view_count": null,
            "_view_module": "@jupyter-widgets/base",
            "_view_module_version": "1.2.0",
            "_view_name": "StyleView",
            "description_width": ""
          }
        },
        "fe8955f7b3394371a100da8e2e7fcc55": {
          "model_module": "@jupyter-widgets/base",
          "model_name": "LayoutModel",
          "model_module_version": "1.2.0",
          "state": {
            "_model_module": "@jupyter-widgets/base",
            "_model_module_version": "1.2.0",
            "_model_name": "LayoutModel",
            "_view_count": null,
            "_view_module": "@jupyter-widgets/base",
            "_view_module_version": "1.2.0",
            "_view_name": "LayoutView",
            "align_content": null,
            "align_items": null,
            "align_self": null,
            "border": null,
            "bottom": null,
            "display": null,
            "flex": null,
            "flex_flow": null,
            "grid_area": null,
            "grid_auto_columns": null,
            "grid_auto_flow": null,
            "grid_auto_rows": null,
            "grid_column": null,
            "grid_gap": null,
            "grid_row": null,
            "grid_template_areas": null,
            "grid_template_columns": null,
            "grid_template_rows": null,
            "height": null,
            "justify_content": null,
            "justify_items": null,
            "left": null,
            "margin": null,
            "max_height": null,
            "max_width": null,
            "min_height": null,
            "min_width": null,
            "object_fit": null,
            "object_position": null,
            "order": null,
            "overflow": null,
            "overflow_x": null,
            "overflow_y": null,
            "padding": null,
            "right": null,
            "top": null,
            "visibility": null,
            "width": null
          }
        },
        "3f5cf7317c124730aeb1297c717942e3": {
          "model_module": "@jupyter-widgets/controls",
          "model_name": "ProgressStyleModel",
          "model_module_version": "1.5.0",
          "state": {
            "_model_module": "@jupyter-widgets/controls",
            "_model_module_version": "1.5.0",
            "_model_name": "ProgressStyleModel",
            "_view_count": null,
            "_view_module": "@jupyter-widgets/base",
            "_view_module_version": "1.2.0",
            "_view_name": "StyleView",
            "bar_color": null,
            "description_width": ""
          }
        },
        "d97a3ed8d5644e13a61ab6e391c83db7": {
          "model_module": "@jupyter-widgets/base",
          "model_name": "LayoutModel",
          "model_module_version": "1.2.0",
          "state": {
            "_model_module": "@jupyter-widgets/base",
            "_model_module_version": "1.2.0",
            "_model_name": "LayoutModel",
            "_view_count": null,
            "_view_module": "@jupyter-widgets/base",
            "_view_module_version": "1.2.0",
            "_view_name": "LayoutView",
            "align_content": null,
            "align_items": null,
            "align_self": null,
            "border": null,
            "bottom": null,
            "display": null,
            "flex": null,
            "flex_flow": null,
            "grid_area": null,
            "grid_auto_columns": null,
            "grid_auto_flow": null,
            "grid_auto_rows": null,
            "grid_column": null,
            "grid_gap": null,
            "grid_row": null,
            "grid_template_areas": null,
            "grid_template_columns": null,
            "grid_template_rows": null,
            "height": null,
            "justify_content": null,
            "justify_items": null,
            "left": null,
            "margin": null,
            "max_height": null,
            "max_width": null,
            "min_height": null,
            "min_width": null,
            "object_fit": null,
            "object_position": null,
            "order": null,
            "overflow": null,
            "overflow_x": null,
            "overflow_y": null,
            "padding": null,
            "right": null,
            "top": null,
            "visibility": null,
            "width": null
          }
        },
        "e11bcbff60764c2ea7c320d543c767e9": {
          "model_module": "@jupyter-widgets/controls",
          "model_name": "DescriptionStyleModel",
          "model_module_version": "1.5.0",
          "state": {
            "_model_module": "@jupyter-widgets/controls",
            "_model_module_version": "1.5.0",
            "_model_name": "DescriptionStyleModel",
            "_view_count": null,
            "_view_module": "@jupyter-widgets/base",
            "_view_module_version": "1.2.0",
            "_view_name": "StyleView",
            "description_width": ""
          }
        }
      }
    }
  },
  "cells": [
    {
      "cell_type": "markdown",
      "metadata": {
        "id": "view-in-github",
        "colab_type": "text"
      },
      "source": [
        "<a href=\"https://colab.research.google.com/github/RuwaAbey/Finaly_Year_Project_G09/blob/main/Detection_and_Pose_estimation.ipynb\" target=\"_parent\"><img src=\"https://colab.research.google.com/assets/colab-badge.svg\" alt=\"Open In Colab\"/></a>"
      ]
    },
    {
      "cell_type": "code",
      "execution_count": 1,
      "metadata": {
        "colab": {
          "base_uri": "https://localhost:8080/"
        },
        "id": "SCvC20lQi7kk",
        "outputId": "350427a5-ca19-4b64-d0f5-a146ee53a939"
      },
      "outputs": [
        {
          "output_type": "stream",
          "name": "stdout",
          "text": [
            "Found existing installation: torch 2.5.1+cu121\n",
            "Uninstalling torch-2.5.1+cu121:\n",
            "  Successfully uninstalled torch-2.5.1+cu121\n",
            "Found existing installation: torchvision 0.20.1+cu121\n",
            "Uninstalling torchvision-0.20.1+cu121:\n",
            "  Successfully uninstalled torchvision-0.20.1+cu121\n",
            "Found existing installation: torchaudio 2.5.1+cu121\n",
            "Uninstalling torchaudio-2.5.1+cu121:\n",
            "  Successfully uninstalled torchaudio-2.5.1+cu121\n"
          ]
        }
      ],
      "source": [
        "!pip uninstall torch torchvision torchaudio -y"
      ]
    },
    {
      "cell_type": "code",
      "source": [
        "!pip install torch==1.11.0+cu115 torchvision==0.12.0+cu115 torchaudio==0.11.0 -f https://download.pytorch.org/whl/cu115/torch_stable.html"
      ],
      "metadata": {
        "colab": {
          "base_uri": "https://localhost:8080/"
        },
        "id": "9cwM-yrnjeMx",
        "outputId": "9bc7b0d8-1455-477a-9a9a-6ee46586cecb"
      },
      "execution_count": 2,
      "outputs": [
        {
          "output_type": "stream",
          "name": "stdout",
          "text": [
            "Looking in links: https://download.pytorch.org/whl/cu115/torch_stable.html\n",
            "Collecting torch==1.11.0+cu115\n",
            "  Downloading https://download.pytorch.org/whl/cu115/torch-1.11.0%2Bcu115-cp310-cp310-linux_x86_64.whl (2138.5 MB)\n",
            "\u001b[2K     \u001b[90m━━━━━━━━━━━━━━━━━━━━━━━━━━━━━━━━━━━━━━━━\u001b[0m \u001b[32m2.1/2.1 GB\u001b[0m \u001b[31m506.5 kB/s\u001b[0m eta \u001b[36m0:00:00\u001b[0m\n",
            "\u001b[?25hCollecting torchvision==0.12.0+cu115\n",
            "  Downloading https://download.pytorch.org/whl/cu115/torchvision-0.12.0%2Bcu115-cp310-cp310-linux_x86_64.whl (22.3 MB)\n",
            "\u001b[2K     \u001b[90m━━━━━━━━━━━━━━━━━━━━━━━━━━━━━━━━━━━━━━━━\u001b[0m \u001b[32m22.3/22.3 MB\u001b[0m \u001b[31m37.7 MB/s\u001b[0m eta \u001b[36m0:00:00\u001b[0m\n",
            "\u001b[?25hCollecting torchaudio==0.11.0\n",
            "  Downloading https://download.pytorch.org/whl/cu115/torchaudio-0.11.0%2Bcu115-cp310-cp310-linux_x86_64.whl (2.9 MB)\n",
            "\u001b[2K     \u001b[90m━━━━━━━━━━━━━━━━━━━━━━━━━━━━━━━━━━━━━━━━\u001b[0m \u001b[32m2.9/2.9 MB\u001b[0m \u001b[31m67.7 MB/s\u001b[0m eta \u001b[36m0:00:00\u001b[0m\n",
            "\u001b[?25hRequirement already satisfied: typing-extensions in /usr/local/lib/python3.10/dist-packages (from torch==1.11.0+cu115) (4.12.2)\n",
            "Requirement already satisfied: numpy in /usr/local/lib/python3.10/dist-packages (from torchvision==0.12.0+cu115) (1.26.4)\n",
            "Requirement already satisfied: requests in /usr/local/lib/python3.10/dist-packages (from torchvision==0.12.0+cu115) (2.32.3)\n",
            "Requirement already satisfied: pillow!=8.3.*,>=5.3.0 in /usr/local/lib/python3.10/dist-packages (from torchvision==0.12.0+cu115) (11.0.0)\n",
            "Requirement already satisfied: charset-normalizer<4,>=2 in /usr/local/lib/python3.10/dist-packages (from requests->torchvision==0.12.0+cu115) (3.4.0)\n",
            "Requirement already satisfied: idna<4,>=2.5 in /usr/local/lib/python3.10/dist-packages (from requests->torchvision==0.12.0+cu115) (3.10)\n",
            "Requirement already satisfied: urllib3<3,>=1.21.1 in /usr/local/lib/python3.10/dist-packages (from requests->torchvision==0.12.0+cu115) (2.2.3)\n",
            "Requirement already satisfied: certifi>=2017.4.17 in /usr/local/lib/python3.10/dist-packages (from requests->torchvision==0.12.0+cu115) (2024.12.14)\n",
            "Installing collected packages: torch, torchvision, torchaudio\n",
            "\u001b[31mERROR: pip's dependency resolver does not currently take into account all the packages that are installed. This behaviour is the source of the following dependency conflicts.\n",
            "peft 0.14.0 requires torch>=1.13.0, but you have torch 1.11.0+cu115 which is incompatible.\u001b[0m\u001b[31m\n",
            "\u001b[0mSuccessfully installed torch-1.11.0+cu115 torchaudio-0.11.0+cu115 torchvision-0.12.0+cu115\n"
          ]
        }
      ]
    },
    {
      "cell_type": "code",
      "source": [
        "import torch\n",
        "print(torch.__version__)  # Should print 1.11.0\n",
        "print(torch.cuda.is_available())  # Should print True if CUDA is available"
      ],
      "metadata": {
        "colab": {
          "base_uri": "https://localhost:8080/"
        },
        "id": "h5mZ1yvZjiTx",
        "outputId": "ddb2b8ce-7565-4c6b-e260-5978580ef865"
      },
      "execution_count": 3,
      "outputs": [
        {
          "output_type": "stream",
          "name": "stdout",
          "text": [
            "1.11.0+cu115\n",
            "True\n"
          ]
        }
      ]
    },
    {
      "cell_type": "code",
      "source": [
        "!pip install mmcv-full==1.5.0 -f https://download.openmmlab.com/mmcv/dist/cu115/torch1.11.0/index.html"
      ],
      "metadata": {
        "colab": {
          "base_uri": "https://localhost:8080/"
        },
        "id": "44qLpTD7kCmC",
        "outputId": "c6fb0060-0e36-40aa-973d-17ab9f55ed5e"
      },
      "execution_count": 4,
      "outputs": [
        {
          "output_type": "stream",
          "name": "stdout",
          "text": [
            "Looking in links: https://download.openmmlab.com/mmcv/dist/cu115/torch1.11.0/index.html\n",
            "Collecting mmcv-full==1.5.0\n",
            "  Downloading https://download.openmmlab.com/mmcv/dist/cu115/torch1.11.0/mmcv_full-1.5.0-cp310-cp310-manylinux1_x86_64.whl (37.2 MB)\n",
            "\u001b[2K     \u001b[90m━━━━━━━━━━━━━━━━━━━━━━━━━━━━━━━━━━━━━━━━\u001b[0m \u001b[32m37.2/37.2 MB\u001b[0m \u001b[31m19.8 MB/s\u001b[0m eta \u001b[36m0:00:00\u001b[0m\n",
            "\u001b[?25hCollecting addict (from mmcv-full==1.5.0)\n",
            "  Downloading addict-2.4.0-py3-none-any.whl.metadata (1.0 kB)\n",
            "Requirement already satisfied: numpy in /usr/local/lib/python3.10/dist-packages (from mmcv-full==1.5.0) (1.26.4)\n",
            "Requirement already satisfied: packaging in /usr/local/lib/python3.10/dist-packages (from mmcv-full==1.5.0) (24.2)\n",
            "Requirement already satisfied: Pillow in /usr/local/lib/python3.10/dist-packages (from mmcv-full==1.5.0) (11.0.0)\n",
            "Requirement already satisfied: pyyaml in /usr/local/lib/python3.10/dist-packages (from mmcv-full==1.5.0) (6.0.2)\n",
            "Collecting yapf (from mmcv-full==1.5.0)\n",
            "  Downloading yapf-0.43.0-py3-none-any.whl.metadata (46 kB)\n",
            "\u001b[2K     \u001b[90m━━━━━━━━━━━━━━━━━━━━━━━━━━━━━━━━━━━━━━━━\u001b[0m \u001b[32m46.8/46.8 kB\u001b[0m \u001b[31m2.7 MB/s\u001b[0m eta \u001b[36m0:00:00\u001b[0m\n",
            "\u001b[?25hRequirement already satisfied: opencv-python>=3 in /usr/local/lib/python3.10/dist-packages (from mmcv-full==1.5.0) (4.10.0.84)\n",
            "Requirement already satisfied: platformdirs>=3.5.1 in /usr/local/lib/python3.10/dist-packages (from yapf->mmcv-full==1.5.0) (4.3.6)\n",
            "Requirement already satisfied: tomli>=2.0.1 in /usr/local/lib/python3.10/dist-packages (from yapf->mmcv-full==1.5.0) (2.2.1)\n",
            "Downloading addict-2.4.0-py3-none-any.whl (3.8 kB)\n",
            "Downloading yapf-0.43.0-py3-none-any.whl (256 kB)\n",
            "\u001b[2K   \u001b[90m━━━━━━━━━━━━━━━━━━━━━━━━━━━━━━━━━━━━━━━━\u001b[0m \u001b[32m256.2/256.2 kB\u001b[0m \u001b[31m8.4 MB/s\u001b[0m eta \u001b[36m0:00:00\u001b[0m\n",
            "\u001b[?25hInstalling collected packages: addict, yapf, mmcv-full\n",
            "Successfully installed addict-2.4.0 mmcv-full-1.5.0 yapf-0.43.0\n"
          ]
        }
      ]
    },
    {
      "cell_type": "code",
      "source": [
        "import mmcv\n",
        "print(mmcv.__version__)"
      ],
      "metadata": {
        "colab": {
          "base_uri": "https://localhost:8080/"
        },
        "id": "ypLCpaNukH5n",
        "outputId": "ee138bbf-29fe-4056-e569-3217a3135b98"
      },
      "execution_count": 5,
      "outputs": [
        {
          "output_type": "stream",
          "name": "stdout",
          "text": [
            "1.5.0\n"
          ]
        }
      ]
    },
    {
      "cell_type": "code",
      "source": [
        "from google.colab import drive\n",
        "drive.mount('/content/drive')"
      ],
      "metadata": {
        "colab": {
          "base_uri": "https://localhost:8080/"
        },
        "id": "JmEFuDUnkRs4",
        "outputId": "5a4943db-c7a4-404d-fe8e-263a0efaec87"
      },
      "execution_count": 9,
      "outputs": [
        {
          "output_type": "stream",
          "name": "stdout",
          "text": [
            "Mounted at /content/drive\n"
          ]
        }
      ]
    },
    {
      "cell_type": "code",
      "source": [
        "%cd /content/drive/My\\ Drive/G_09"
      ],
      "metadata": {
        "colab": {
          "base_uri": "https://localhost:8080/"
        },
        "id": "xKsbfDb1k1hQ",
        "outputId": "85bc15a5-fc19-4144-a6b6-b52d3840ca36"
      },
      "execution_count": 11,
      "outputs": [
        {
          "output_type": "stream",
          "name": "stdout",
          "text": [
            "/content/drive/My Drive/G_09\n"
          ]
        }
      ]
    },
    {
      "cell_type": "code",
      "source": [
        "!git clone https://github.com/kennymckormick/pyskl.git"
      ],
      "metadata": {
        "colab": {
          "base_uri": "https://localhost:8080/"
        },
        "id": "nqgeJGyHk8DI",
        "outputId": "73156e0e-4bad-4de4-d695-c0f2a4d464d4"
      },
      "execution_count": 13,
      "outputs": [
        {
          "output_type": "stream",
          "name": "stdout",
          "text": [
            "Cloning into 'pyskl'...\n",
            "remote: Enumerating objects: 2022, done.\u001b[K\n",
            "remote: Counting objects: 100% (1091/1091), done.\u001b[K\n",
            "remote: Compressing objects: 100% (275/275), done.\u001b[K\n",
            "remote: Total 2022 (delta 971), reused 816 (delta 816), pack-reused 931 (from 2)\u001b[K\n",
            "Receiving objects: 100% (2022/2022), 2.25 MiB | 5.28 MiB/s, done.\n",
            "Resolving deltas: 100% (1400/1400), done.\n",
            "Updating files: 100% (351/351), done.\n"
          ]
        }
      ]
    },
    {
      "cell_type": "code",
      "source": [
        "%cd /content/drive/My\\ Drive/G_09/pyskl"
      ],
      "metadata": {
        "colab": {
          "base_uri": "https://localhost:8080/"
        },
        "id": "JQ-T4zlilLjC",
        "outputId": "d402b332-6d11-4dbe-a7ac-32dac8050ec0"
      },
      "execution_count": 14,
      "outputs": [
        {
          "output_type": "stream",
          "name": "stdout",
          "text": [
            "/content/drive/My Drive/G_09/pyskl\n"
          ]
        }
      ]
    },
    {
      "cell_type": "code",
      "source": [
        "!pip install -r requirements.txt"
      ],
      "metadata": {
        "colab": {
          "base_uri": "https://localhost:8080/"
        },
        "id": "fEc_06sClYL3",
        "outputId": "97fae939-7a6a-42cc-ebfd-d8ed8a20b736"
      },
      "execution_count": 18,
      "outputs": [
        {
          "output_type": "stream",
          "name": "stdout",
          "text": [
            "Collecting decord>=0.6.0 (from -r requirements.txt (line 1))\n",
            "  Downloading decord-0.6.0-py3-none-manylinux2010_x86_64.whl.metadata (422 bytes)\n",
            "Collecting fvcore (from -r requirements.txt (line 2))\n",
            "  Downloading fvcore-0.1.5.post20221221.tar.gz (50 kB)\n",
            "\u001b[2K     \u001b[90m━━━━━━━━━━━━━━━━━━━━━━━━━━━━━━━━━━━━━━━━\u001b[0m \u001b[32m50.2/50.2 kB\u001b[0m \u001b[31m3.3 MB/s\u001b[0m eta \u001b[36m0:00:00\u001b[0m\n",
            "\u001b[?25h  Preparing metadata (setup.py) ... \u001b[?25l\u001b[?25hdone\n",
            "Requirement already satisfied: matplotlib in /usr/local/lib/python3.10/dist-packages (from -r requirements.txt (line 3)) (3.8.0)\n",
            "Requirement already satisfied: mmcv-full==1.5.0 in /usr/local/lib/python3.10/dist-packages (from -r requirements.txt (line 4)) (1.5.0)\n",
            "Collecting mmdet==2.23.0 (from -r requirements.txt (line 5))\n",
            "  Downloading mmdet-2.23.0-py3-none-any.whl.metadata (19 kB)\n",
            "Collecting mmpose==0.24.0 (from -r requirements.txt (line 6))\n",
            "  Downloading mmpose-0.24.0-py2.py3-none-any.whl.metadata (21 kB)\n",
            "Requirement already satisfied: moviepy in /usr/local/lib/python3.10/dist-packages (from -r requirements.txt (line 7)) (1.0.3)\n",
            "Requirement already satisfied: numpy>=1.19.5 in /usr/local/lib/python3.10/dist-packages (from -r requirements.txt (line 8)) (1.26.4)\n",
            "Requirement already satisfied: opencv-contrib-python in /usr/local/lib/python3.10/dist-packages (from -r requirements.txt (line 9)) (4.10.0.84)\n",
            "Requirement already satisfied: opencv-python in /usr/local/lib/python3.10/dist-packages (from -r requirements.txt (line 10)) (4.10.0.84)\n",
            "Collecting pymemcache (from -r requirements.txt (line 11))\n",
            "  Downloading pymemcache-4.0.0-py2.py3-none-any.whl.metadata (14 kB)\n",
            "Requirement already satisfied: scipy in /usr/local/lib/python3.10/dist-packages (from -r requirements.txt (line 12)) (1.13.1)\n",
            "Requirement already satisfied: torch>=1.5 in /usr/local/lib/python3.10/dist-packages (from -r requirements.txt (line 13)) (1.11.0+cu115)\n",
            "Requirement already satisfied: tqdm in /usr/local/lib/python3.10/dist-packages (from -r requirements.txt (line 14)) (4.67.1)\n",
            "Requirement already satisfied: addict in /usr/local/lib/python3.10/dist-packages (from mmcv-full==1.5.0->-r requirements.txt (line 4)) (2.4.0)\n",
            "Requirement already satisfied: packaging in /usr/local/lib/python3.10/dist-packages (from mmcv-full==1.5.0->-r requirements.txt (line 4)) (24.2)\n",
            "Requirement already satisfied: Pillow in /usr/local/lib/python3.10/dist-packages (from mmcv-full==1.5.0->-r requirements.txt (line 4)) (11.0.0)\n",
            "Requirement already satisfied: pyyaml in /usr/local/lib/python3.10/dist-packages (from mmcv-full==1.5.0->-r requirements.txt (line 4)) (6.0.2)\n",
            "Requirement already satisfied: yapf in /usr/local/lib/python3.10/dist-packages (from mmcv-full==1.5.0->-r requirements.txt (line 4)) (0.43.0)\n",
            "Requirement already satisfied: pycocotools in /usr/local/lib/python3.10/dist-packages (from mmdet==2.23.0->-r requirements.txt (line 5)) (2.0.8)\n",
            "Requirement already satisfied: six in /usr/local/lib/python3.10/dist-packages (from mmdet==2.23.0->-r requirements.txt (line 5)) (1.17.0)\n",
            "Collecting terminaltables (from mmdet==2.23.0->-r requirements.txt (line 5))\n",
            "  Downloading terminaltables-3.1.10-py2.py3-none-any.whl.metadata (3.5 kB)\n",
            "Collecting chumpy (from mmpose==0.24.0->-r requirements.txt (line 6))\n",
            "  Downloading chumpy-0.70.tar.gz (50 kB)\n",
            "\u001b[2K     \u001b[90m━━━━━━━━━━━━━━━━━━━━━━━━━━━━━━━━━━━━━━━━\u001b[0m \u001b[32m50.6/50.6 kB\u001b[0m \u001b[31m5.3 MB/s\u001b[0m eta \u001b[36m0:00:00\u001b[0m\n",
            "\u001b[?25h  Preparing metadata (setup.py) ... \u001b[?25l\u001b[?25hdone\n",
            "Collecting json-tricks (from mmpose==0.24.0->-r requirements.txt (line 6))\n",
            "  Downloading json_tricks-3.17.3-py2.py3-none-any.whl.metadata (16 kB)\n",
            "Collecting munkres (from mmpose==0.24.0->-r requirements.txt (line 6))\n",
            "  Downloading munkres-1.1.4-py2.py3-none-any.whl.metadata (980 bytes)\n",
            "Requirement already satisfied: torchvision in /usr/local/lib/python3.10/dist-packages (from mmpose==0.24.0->-r requirements.txt (line 6)) (0.12.0+cu115)\n",
            "Collecting xtcocotools>=1.8 (from mmpose==0.24.0->-r requirements.txt (line 6))\n",
            "  Downloading xtcocotools-1.14.3-cp310-cp310-manylinux1_x86_64.whl.metadata (364 bytes)\n",
            "Collecting yacs>=0.1.6 (from fvcore->-r requirements.txt (line 2))\n",
            "  Downloading yacs-0.1.8-py3-none-any.whl.metadata (639 bytes)\n",
            "Requirement already satisfied: termcolor>=1.1 in /usr/local/lib/python3.10/dist-packages (from fvcore->-r requirements.txt (line 2)) (2.5.0)\n",
            "Requirement already satisfied: tabulate in /usr/local/lib/python3.10/dist-packages (from fvcore->-r requirements.txt (line 2)) (0.9.0)\n",
            "Collecting iopath>=0.1.7 (from fvcore->-r requirements.txt (line 2))\n",
            "  Downloading iopath-0.1.10.tar.gz (42 kB)\n",
            "\u001b[2K     \u001b[90m━━━━━━━━━━━━━━━━━━━━━━━━━━━━━━━━━━━━━━━━\u001b[0m \u001b[32m42.2/42.2 kB\u001b[0m \u001b[31m4.3 MB/s\u001b[0m eta \u001b[36m0:00:00\u001b[0m\n",
            "\u001b[?25h  Preparing metadata (setup.py) ... \u001b[?25l\u001b[?25hdone\n",
            "Requirement already satisfied: contourpy>=1.0.1 in /usr/local/lib/python3.10/dist-packages (from matplotlib->-r requirements.txt (line 3)) (1.3.1)\n",
            "Requirement already satisfied: cycler>=0.10 in /usr/local/lib/python3.10/dist-packages (from matplotlib->-r requirements.txt (line 3)) (0.12.1)\n",
            "Requirement already satisfied: fonttools>=4.22.0 in /usr/local/lib/python3.10/dist-packages (from matplotlib->-r requirements.txt (line 3)) (4.55.3)\n",
            "Requirement already satisfied: kiwisolver>=1.0.1 in /usr/local/lib/python3.10/dist-packages (from matplotlib->-r requirements.txt (line 3)) (1.4.7)\n",
            "Requirement already satisfied: pyparsing>=2.3.1 in /usr/local/lib/python3.10/dist-packages (from matplotlib->-r requirements.txt (line 3)) (3.2.0)\n",
            "Requirement already satisfied: python-dateutil>=2.7 in /usr/local/lib/python3.10/dist-packages (from matplotlib->-r requirements.txt (line 3)) (2.8.2)\n",
            "Requirement already satisfied: decorator<5.0,>=4.0.2 in /usr/local/lib/python3.10/dist-packages (from moviepy->-r requirements.txt (line 7)) (4.4.2)\n",
            "Requirement already satisfied: imageio<3.0,>=2.5 in /usr/local/lib/python3.10/dist-packages (from moviepy->-r requirements.txt (line 7)) (2.36.1)\n",
            "Requirement already satisfied: imageio_ffmpeg>=0.2.0 in /usr/local/lib/python3.10/dist-packages (from moviepy->-r requirements.txt (line 7)) (0.5.1)\n",
            "Requirement already satisfied: requests<3.0,>=2.8.1 in /usr/local/lib/python3.10/dist-packages (from moviepy->-r requirements.txt (line 7)) (2.32.3)\n",
            "Requirement already satisfied: proglog<=1.0.0 in /usr/local/lib/python3.10/dist-packages (from moviepy->-r requirements.txt (line 7)) (0.1.10)\n",
            "Requirement already satisfied: typing-extensions in /usr/local/lib/python3.10/dist-packages (from torch>=1.5->-r requirements.txt (line 13)) (4.12.2)\n",
            "Requirement already satisfied: setuptools in /usr/local/lib/python3.10/dist-packages (from imageio_ffmpeg>=0.2.0->moviepy->-r requirements.txt (line 7)) (75.1.0)\n",
            "Collecting portalocker (from iopath>=0.1.7->fvcore->-r requirements.txt (line 2))\n",
            "  Downloading portalocker-3.1.1-py3-none-any.whl.metadata (8.6 kB)\n",
            "Requirement already satisfied: charset-normalizer<4,>=2 in /usr/local/lib/python3.10/dist-packages (from requests<3.0,>=2.8.1->moviepy->-r requirements.txt (line 7)) (3.4.0)\n",
            "Requirement already satisfied: idna<4,>=2.5 in /usr/local/lib/python3.10/dist-packages (from requests<3.0,>=2.8.1->moviepy->-r requirements.txt (line 7)) (3.10)\n",
            "Requirement already satisfied: urllib3<3,>=1.21.1 in /usr/local/lib/python3.10/dist-packages (from requests<3.0,>=2.8.1->moviepy->-r requirements.txt (line 7)) (2.2.3)\n",
            "Requirement already satisfied: certifi>=2017.4.17 in /usr/local/lib/python3.10/dist-packages (from requests<3.0,>=2.8.1->moviepy->-r requirements.txt (line 7)) (2024.12.14)\n",
            "Requirement already satisfied: cython>=0.27.3 in /usr/local/lib/python3.10/dist-packages (from xtcocotools>=1.8->mmpose==0.24.0->-r requirements.txt (line 6)) (3.0.11)\n",
            "Requirement already satisfied: platformdirs>=3.5.1 in /usr/local/lib/python3.10/dist-packages (from yapf->mmcv-full==1.5.0->-r requirements.txt (line 4)) (4.3.6)\n",
            "Requirement already satisfied: tomli>=2.0.1 in /usr/local/lib/python3.10/dist-packages (from yapf->mmcv-full==1.5.0->-r requirements.txt (line 4)) (2.2.1)\n",
            "Downloading mmdet-2.23.0-py3-none-any.whl (1.4 MB)\n",
            "\u001b[2K   \u001b[90m━━━━━━━━━━━━━━━━━━━━━━━━━━━━━━━━━━━━━━━━\u001b[0m \u001b[32m1.4/1.4 MB\u001b[0m \u001b[31m20.8 MB/s\u001b[0m eta \u001b[36m0:00:00\u001b[0m\n",
            "\u001b[?25hDownloading mmpose-0.24.0-py2.py3-none-any.whl (1.4 MB)\n",
            "\u001b[2K   \u001b[90m━━━━━━━━━━━━━━━━━━━━━━━━━━━━━━━━━━━━━━━━\u001b[0m \u001b[32m1.4/1.4 MB\u001b[0m \u001b[31m38.8 MB/s\u001b[0m eta \u001b[36m0:00:00\u001b[0m\n",
            "\u001b[?25hDownloading decord-0.6.0-py3-none-manylinux2010_x86_64.whl (13.6 MB)\n",
            "\u001b[2K   \u001b[90m━━━━━━━━━━━━━━━━━━━━━━━━━━━━━━━━━━━━━━━━\u001b[0m \u001b[32m13.6/13.6 MB\u001b[0m \u001b[31m67.7 MB/s\u001b[0m eta \u001b[36m0:00:00\u001b[0m\n",
            "\u001b[?25hDownloading pymemcache-4.0.0-py2.py3-none-any.whl (60 kB)\n",
            "\u001b[2K   \u001b[90m━━━━━━━━━━━━━━━━━━━━━━━━━━━━━━━━━━━━━━━━\u001b[0m \u001b[32m60.8/60.8 kB\u001b[0m \u001b[31m5.8 MB/s\u001b[0m eta \u001b[36m0:00:00\u001b[0m\n",
            "\u001b[?25hDownloading xtcocotools-1.14.3-cp310-cp310-manylinux1_x86_64.whl (436 kB)\n",
            "\u001b[2K   \u001b[90m━━━━━━━━━━━━━━━━━━━━━━━━━━━━━━━━━━━━━━━━\u001b[0m \u001b[32m436.0/436.0 kB\u001b[0m \u001b[31m34.9 MB/s\u001b[0m eta \u001b[36m0:00:00\u001b[0m\n",
            "\u001b[?25hDownloading yacs-0.1.8-py3-none-any.whl (14 kB)\n",
            "Downloading json_tricks-3.17.3-py2.py3-none-any.whl (27 kB)\n",
            "Downloading munkres-1.1.4-py2.py3-none-any.whl (7.0 kB)\n",
            "Downloading terminaltables-3.1.10-py2.py3-none-any.whl (15 kB)\n",
            "Downloading portalocker-3.1.1-py3-none-any.whl (19 kB)\n",
            "Building wheels for collected packages: fvcore, iopath, chumpy\n",
            "  Building wheel for fvcore (setup.py) ... \u001b[?25l\u001b[?25hdone\n",
            "  Created wheel for fvcore: filename=fvcore-0.1.5.post20221221-py3-none-any.whl size=61396 sha256=9b7f80662dc71e7f56d98d84640c0ecd3aa29c9d9c1c6daca932c5f995aec7f8\n",
            "  Stored in directory: /root/.cache/pip/wheels/01/c0/af/77c1cf53a1be9e42a52b48e5af2169d40ec2e89f7362489dd0\n",
            "  Building wheel for iopath (setup.py) ... \u001b[?25l\u001b[?25hdone\n",
            "  Created wheel for iopath: filename=iopath-0.1.10-py3-none-any.whl size=31528 sha256=f810d3b8518869f857139a30acca48927244464b4aad3766abe10392a408debe\n",
            "  Stored in directory: /root/.cache/pip/wheels/9a/a3/b6/ac0fcd1b4ed5cfeb3db92e6a0e476cfd48ed0df92b91080c1d\n",
            "  Building wheel for chumpy (setup.py) ... \u001b[?25l\u001b[?25hdone\n",
            "  Created wheel for chumpy: filename=chumpy-0.70-py3-none-any.whl size=58264 sha256=bb3cd88838d1abad85b9f75c6ce69340149913e0cd2c1cc23fea9b31f224c666\n",
            "  Stored in directory: /root/.cache/pip/wheels/e0/c1/ef/29ba7be03653a29ef6f2c3e1956d6c4d8877f2b243af411db1\n",
            "Successfully built fvcore iopath chumpy\n",
            "Installing collected packages: munkres, json-tricks, yacs, terminaltables, pymemcache, portalocker, decord, iopath, chumpy, xtcocotools, fvcore, mmpose, mmdet\n",
            "Successfully installed chumpy-0.70 decord-0.6.0 fvcore-0.1.5.post20221221 iopath-0.1.10 json-tricks-3.17.3 mmdet-2.23.0 mmpose-0.24.0 munkres-1.1.4 portalocker-3.1.1 pymemcache-4.0.0 terminaltables-3.1.10 xtcocotools-1.14.3 yacs-0.1.8\n"
          ]
        }
      ]
    },
    {
      "cell_type": "code",
      "source": [
        "!pip install -e ."
      ],
      "metadata": {
        "colab": {
          "base_uri": "https://localhost:8080/"
        },
        "id": "iLnEtPMHlhIY",
        "outputId": "0675c433-ba84-4dcb-f7fb-5d51e6cdd215"
      },
      "execution_count": 20,
      "outputs": [
        {
          "output_type": "stream",
          "name": "stdout",
          "text": [
            "Obtaining file:///content/drive/My%20Drive/G_09/pyskl\n",
            "  Preparing metadata (setup.py) ... \u001b[?25l\u001b[?25hdone\n",
            "Requirement already satisfied: decord>=0.6.0 in /usr/local/lib/python3.10/dist-packages (from pyskl==0.1.0) (0.6.0)\n",
            "Requirement already satisfied: fvcore in /usr/local/lib/python3.10/dist-packages (from pyskl==0.1.0) (0.1.5.post20221221)\n",
            "Requirement already satisfied: matplotlib in /usr/local/lib/python3.10/dist-packages (from pyskl==0.1.0) (3.8.0)\n",
            "Requirement already satisfied: mmcv-full==1.5.0 in /usr/local/lib/python3.10/dist-packages (from pyskl==0.1.0) (1.5.0)\n",
            "Requirement already satisfied: mmdet==2.23.0 in /usr/local/lib/python3.10/dist-packages (from pyskl==0.1.0) (2.23.0)\n",
            "Requirement already satisfied: mmpose==0.24.0 in /usr/local/lib/python3.10/dist-packages (from pyskl==0.1.0) (0.24.0)\n",
            "Requirement already satisfied: moviepy in /usr/local/lib/python3.10/dist-packages (from pyskl==0.1.0) (1.0.3)\n",
            "Requirement already satisfied: numpy>=1.19.5 in /usr/local/lib/python3.10/dist-packages (from pyskl==0.1.0) (1.26.4)\n",
            "Requirement already satisfied: opencv-contrib-python in /usr/local/lib/python3.10/dist-packages (from pyskl==0.1.0) (4.10.0.84)\n",
            "Requirement already satisfied: opencv-python in /usr/local/lib/python3.10/dist-packages (from pyskl==0.1.0) (4.10.0.84)\n",
            "Requirement already satisfied: pymemcache in /usr/local/lib/python3.10/dist-packages (from pyskl==0.1.0) (4.0.0)\n",
            "Requirement already satisfied: scipy in /usr/local/lib/python3.10/dist-packages (from pyskl==0.1.0) (1.13.1)\n",
            "Requirement already satisfied: torch>=1.5 in /usr/local/lib/python3.10/dist-packages (from pyskl==0.1.0) (1.11.0+cu115)\n",
            "Requirement already satisfied: tqdm in /usr/local/lib/python3.10/dist-packages (from pyskl==0.1.0) (4.67.1)\n",
            "Requirement already satisfied: addict in /usr/local/lib/python3.10/dist-packages (from mmcv-full==1.5.0->pyskl==0.1.0) (2.4.0)\n",
            "Requirement already satisfied: packaging in /usr/local/lib/python3.10/dist-packages (from mmcv-full==1.5.0->pyskl==0.1.0) (24.2)\n",
            "Requirement already satisfied: Pillow in /usr/local/lib/python3.10/dist-packages (from mmcv-full==1.5.0->pyskl==0.1.0) (11.0.0)\n",
            "Requirement already satisfied: pyyaml in /usr/local/lib/python3.10/dist-packages (from mmcv-full==1.5.0->pyskl==0.1.0) (6.0.2)\n",
            "Requirement already satisfied: yapf in /usr/local/lib/python3.10/dist-packages (from mmcv-full==1.5.0->pyskl==0.1.0) (0.43.0)\n",
            "Requirement already satisfied: pycocotools in /usr/local/lib/python3.10/dist-packages (from mmdet==2.23.0->pyskl==0.1.0) (2.0.8)\n",
            "Requirement already satisfied: six in /usr/local/lib/python3.10/dist-packages (from mmdet==2.23.0->pyskl==0.1.0) (1.17.0)\n",
            "Requirement already satisfied: terminaltables in /usr/local/lib/python3.10/dist-packages (from mmdet==2.23.0->pyskl==0.1.0) (3.1.10)\n",
            "Requirement already satisfied: chumpy in /usr/local/lib/python3.10/dist-packages (from mmpose==0.24.0->pyskl==0.1.0) (0.70)\n",
            "Requirement already satisfied: json-tricks in /usr/local/lib/python3.10/dist-packages (from mmpose==0.24.0->pyskl==0.1.0) (3.17.3)\n",
            "Requirement already satisfied: munkres in /usr/local/lib/python3.10/dist-packages (from mmpose==0.24.0->pyskl==0.1.0) (1.1.4)\n",
            "Requirement already satisfied: torchvision in /usr/local/lib/python3.10/dist-packages (from mmpose==0.24.0->pyskl==0.1.0) (0.12.0+cu115)\n",
            "Requirement already satisfied: xtcocotools>=1.8 in /usr/local/lib/python3.10/dist-packages (from mmpose==0.24.0->pyskl==0.1.0) (1.14.3)\n",
            "Requirement already satisfied: typing-extensions in /usr/local/lib/python3.10/dist-packages (from torch>=1.5->pyskl==0.1.0) (4.12.2)\n",
            "Requirement already satisfied: yacs>=0.1.6 in /usr/local/lib/python3.10/dist-packages (from fvcore->pyskl==0.1.0) (0.1.8)\n",
            "Requirement already satisfied: termcolor>=1.1 in /usr/local/lib/python3.10/dist-packages (from fvcore->pyskl==0.1.0) (2.5.0)\n",
            "Requirement already satisfied: tabulate in /usr/local/lib/python3.10/dist-packages (from fvcore->pyskl==0.1.0) (0.9.0)\n",
            "Requirement already satisfied: iopath>=0.1.7 in /usr/local/lib/python3.10/dist-packages (from fvcore->pyskl==0.1.0) (0.1.10)\n",
            "Requirement already satisfied: contourpy>=1.0.1 in /usr/local/lib/python3.10/dist-packages (from matplotlib->pyskl==0.1.0) (1.3.1)\n",
            "Requirement already satisfied: cycler>=0.10 in /usr/local/lib/python3.10/dist-packages (from matplotlib->pyskl==0.1.0) (0.12.1)\n",
            "Requirement already satisfied: fonttools>=4.22.0 in /usr/local/lib/python3.10/dist-packages (from matplotlib->pyskl==0.1.0) (4.55.3)\n",
            "Requirement already satisfied: kiwisolver>=1.0.1 in /usr/local/lib/python3.10/dist-packages (from matplotlib->pyskl==0.1.0) (1.4.7)\n",
            "Requirement already satisfied: pyparsing>=2.3.1 in /usr/local/lib/python3.10/dist-packages (from matplotlib->pyskl==0.1.0) (3.2.0)\n",
            "Requirement already satisfied: python-dateutil>=2.7 in /usr/local/lib/python3.10/dist-packages (from matplotlib->pyskl==0.1.0) (2.8.2)\n",
            "Requirement already satisfied: decorator<5.0,>=4.0.2 in /usr/local/lib/python3.10/dist-packages (from moviepy->pyskl==0.1.0) (4.4.2)\n",
            "Requirement already satisfied: imageio<3.0,>=2.5 in /usr/local/lib/python3.10/dist-packages (from moviepy->pyskl==0.1.0) (2.36.1)\n",
            "Requirement already satisfied: imageio_ffmpeg>=0.2.0 in /usr/local/lib/python3.10/dist-packages (from moviepy->pyskl==0.1.0) (0.5.1)\n",
            "Requirement already satisfied: requests<3.0,>=2.8.1 in /usr/local/lib/python3.10/dist-packages (from moviepy->pyskl==0.1.0) (2.32.3)\n",
            "Requirement already satisfied: proglog<=1.0.0 in /usr/local/lib/python3.10/dist-packages (from moviepy->pyskl==0.1.0) (0.1.10)\n",
            "Requirement already satisfied: setuptools in /usr/local/lib/python3.10/dist-packages (from imageio_ffmpeg>=0.2.0->moviepy->pyskl==0.1.0) (75.1.0)\n",
            "Requirement already satisfied: portalocker in /usr/local/lib/python3.10/dist-packages (from iopath>=0.1.7->fvcore->pyskl==0.1.0) (3.1.1)\n",
            "Requirement already satisfied: charset-normalizer<4,>=2 in /usr/local/lib/python3.10/dist-packages (from requests<3.0,>=2.8.1->moviepy->pyskl==0.1.0) (3.4.0)\n",
            "Requirement already satisfied: idna<4,>=2.5 in /usr/local/lib/python3.10/dist-packages (from requests<3.0,>=2.8.1->moviepy->pyskl==0.1.0) (3.10)\n",
            "Requirement already satisfied: urllib3<3,>=1.21.1 in /usr/local/lib/python3.10/dist-packages (from requests<3.0,>=2.8.1->moviepy->pyskl==0.1.0) (2.2.3)\n",
            "Requirement already satisfied: certifi>=2017.4.17 in /usr/local/lib/python3.10/dist-packages (from requests<3.0,>=2.8.1->moviepy->pyskl==0.1.0) (2024.12.14)\n",
            "Requirement already satisfied: cython>=0.27.3 in /usr/local/lib/python3.10/dist-packages (from xtcocotools>=1.8->mmpose==0.24.0->pyskl==0.1.0) (3.0.11)\n",
            "Requirement already satisfied: platformdirs>=3.5.1 in /usr/local/lib/python3.10/dist-packages (from yapf->mmcv-full==1.5.0->pyskl==0.1.0) (4.3.6)\n",
            "Requirement already satisfied: tomli>=2.0.1 in /usr/local/lib/python3.10/dist-packages (from yapf->mmcv-full==1.5.0->pyskl==0.1.0) (2.2.1)\n",
            "Installing collected packages: pyskl\n",
            "  Running setup.py develop for pyskl\n",
            "Successfully installed pyskl-0.1.0\n"
          ]
        }
      ]
    },
    {
      "cell_type": "code",
      "source": [
        "import pyskl"
      ],
      "metadata": {
        "id": "7VpOTkMflPQE"
      },
      "execution_count": 21,
      "outputs": []
    },
    {
      "cell_type": "code",
      "source": [
        "# Install the required dependencies first (run the installation cell above)\n",
        "\n",
        "# Your entire script here\n",
        "# Paste everything, starting from \"# Copyright (c) OpenMMLab. All rights reserved\" to the end.\n",
        "\n",
        "# Example:\n",
        "# Copyright (c) OpenMMLab. All rights reserved.\n",
        "import argparse\n",
        "import cv2\n",
        "import mmcv\n",
        "import numpy as np\n",
        "import os\n",
        "import os.path as osp\n",
        "import shutil\n",
        "import torch\n",
        "import warnings\n",
        "from scipy.optimize import linear_sum_assignment\n",
        "\n",
        "from pyskl.apis import inference_recognizer, init_recognizer\n",
        "\n",
        "try:\n",
        "    from mmdet.apis import inference_detector, init_detector\n",
        "except (ImportError, ModuleNotFoundError):\n",
        "    def inference_detector(*args, **kwargs):\n",
        "        pass\n",
        "\n",
        "    def init_detector(*args, **kwargs):\n",
        "        pass\n",
        "    warnings.warn(\n",
        "        'Failed to import `inference_detector` and `init_detector` from `mmdet.apis`. '\n",
        "        'Make sure you can successfully import these if you want to use related features. '\n",
        "    )\n",
        "\n",
        "try:\n",
        "    from mmpose.apis import inference_top_down_pose_model, init_pose_model, vis_pose_result\n",
        "except (ImportError, ModuleNotFoundError):\n",
        "    def init_pose_model(*args, **kwargs):\n",
        "        pass\n",
        "\n",
        "    def inference_top_down_pose_model(*args, **kwargs):\n",
        "        pass\n",
        "\n",
        "    def vis_pose_result(*args, **kwargs):\n",
        "        pass\n",
        "\n",
        "    warnings.warn(\n",
        "        'Failed to import `init_pose_model`, `inference_top_down_pose_model`, `vis_pose_result` from '\n",
        "        '`mmpose.apis`. Make sure you can successfully import these if you want to use related features. '\n",
        "    )\n",
        "\n",
        "\n",
        "try:\n",
        "    import moviepy.editor as mpy\n",
        "except ImportError:\n",
        "    raise ImportError('Please install moviepy to enable output file')\n",
        "\n",
        "FONTFACE = cv2.FONT_HERSHEY_DUPLEX\n",
        "FONTSCALE = 0.75\n",
        "FONTCOLOR = (255, 255, 255)  # BGR, white\n",
        "THICKNESS = 1\n",
        "LINETYPE = 1\n",
        "\n",
        "def parse_args():\n",
        "  class Args:\n",
        "\n",
        "    video = '/content/drive/My Drive/video.mp4'  # The downloaded video file\n",
        "    out_filename = '/content/drive/My Drive/output.mp4'\n",
        "    config = 'configs/posec3d/slowonly_r50_ntu120_xsub/joint.py'\n",
        "    checkpoint = 'https://download.openmmlab.com/mmaction/pyskl/ckpt/posec3d/slowonly_r50_ntu120_xsub/joint.pth'\n",
        "    det_config = 'demo/faster_rcnn_r50_fpn_1x_coco-person.py'\n",
        "    det_checkpoint = ('https://download.openmmlab.com/mmdetection/v2.0/faster_rcnn/faster_rcnn_r50_fpn_1x_coco-person/'\n",
        "                       'faster_rcnn_r50_fpn_1x_coco-person_20201216_175929-d022e227.pth')\n",
        "    pose_config = 'demo/hrnet_w32_coco_256x192.py'\n",
        "    pose_checkpoint = 'https://download.openmmlab.com/mmpose/top_down/hrnet/hrnet_w32_coco_256x192-c78dce93_20200708.pth'\n",
        "    det_score_thr = 0.9\n",
        "    label_map = 'tools/data/label_map/nturgbd_120.txt'\n",
        "    device = 'cuda:0'\n",
        "    short_side = 480\n",
        "\n",
        "  args = Args()\n",
        "  return args\n",
        "\n",
        "\n",
        "\n",
        "def frame_extraction(video_path, short_side):\n",
        "    \"\"\"Extract frames given video_path.\n",
        "\n",
        "    Args:\n",
        "        video_path (str): The video_path.\n",
        "    \"\"\"\n",
        "    # Load the video, extract frames into ./tmp/video_name\n",
        "    target_dir = osp.join('./tmp', osp.basename(osp.splitext(video_path)[0]))\n",
        "    os.makedirs(target_dir, exist_ok=True)\n",
        "    # Should be able to handle videos up to several hours\n",
        "    frame_tmpl = osp.join(target_dir, 'img_{:06d}.jpg')\n",
        "    vid = cv2.VideoCapture(video_path)\n",
        "    frames = []\n",
        "    frame_paths = []\n",
        "    flag, frame = vid.read()\n",
        "    cnt = 0\n",
        "    new_h, new_w = None, None\n",
        "    while flag:\n",
        "        if new_h is None:\n",
        "            h, w, _ = frame.shape\n",
        "            new_w, new_h = mmcv.rescale_size((w, h), (short_side, np.Inf))\n",
        "\n",
        "        frame = mmcv.imresize(frame, (new_w, new_h))\n",
        "\n",
        "        frames.append(frame)\n",
        "        frame_path = frame_tmpl.format(cnt + 1)\n",
        "        frame_paths.append(frame_path)\n",
        "\n",
        "        cv2.imwrite(frame_path, frame)\n",
        "        cnt += 1\n",
        "        flag, frame = vid.read()\n",
        "\n",
        "    return frame_paths, frames\n",
        "\n",
        "\n",
        "def detection_inference(args, frame_paths):\n",
        "    \"\"\"Detect human boxes given frame paths.\n",
        "\n",
        "    Args:\n",
        "        args (argparse.Namespace): The arguments.\n",
        "        frame_paths (list[str]): The paths of frames to do detection inference.\n",
        "\n",
        "    Returns:\n",
        "        list[np.ndarray]: The human detection results.\n",
        "    \"\"\"\n",
        "    model = init_detector(args.det_config, args.det_checkpoint, args.device)\n",
        "    assert model is not None, ('Failed to build the detection model. Check if you have installed mmcv-full properly. '\n",
        "                               'You should first install mmcv-full successfully, then install mmdet, mmpose. ')\n",
        "    assert model.CLASSES[0] == 'person', 'We require you to use a detector trained on COCO'\n",
        "    results = []\n",
        "    print('Performing Human Detection for each frame')\n",
        "    prog_bar = mmcv.ProgressBar(len(frame_paths))\n",
        "    for frame_path in frame_paths:\n",
        "        result = inference_detector(model, frame_path)\n",
        "        # We only keep human detections with score larger than det_score_thr\n",
        "        result = result[0][result[0][:, 4] >= args.det_score_thr]\n",
        "        results.append(result)\n",
        "        prog_bar.update()\n",
        "    return results\n",
        "\n",
        "\n",
        "def pose_inference(args, frame_paths, det_results):\n",
        "    model = init_pose_model(args.pose_config, args.pose_checkpoint,\n",
        "                            args.device)\n",
        "    ret = []\n",
        "    print('Performing Human Pose Estimation for each frame')\n",
        "    prog_bar = mmcv.ProgressBar(len(frame_paths))\n",
        "    for f, d in zip(frame_paths, det_results):\n",
        "        # Align input format\n",
        "        d = [dict(bbox=x) for x in list(d)]\n",
        "        pose = inference_top_down_pose_model(model, f, d, format='xyxy')[0]\n",
        "        ret.append(pose)\n",
        "        prog_bar.update()\n",
        "    return ret\n",
        "\n",
        "\n",
        "def dist_ske(ske1, ske2):\n",
        "    dist = np.linalg.norm(ske1[:, :2] - ske2[:, :2], axis=1) * 2\n",
        "    diff = np.abs(ske1[:, 2] - ske2[:, 2])\n",
        "    return np.sum(np.maximum(dist, diff))\n",
        "\n",
        "\n",
        "def pose_tracking(pose_results, max_tracks=2, thre=30):\n",
        "    tracks, num_tracks = [], 0\n",
        "    num_joints = None\n",
        "    for idx, poses in enumerate(pose_results):\n",
        "        if len(poses) == 0:\n",
        "            continue\n",
        "        if num_joints is None:\n",
        "            num_joints = poses[0].shape[0]\n",
        "        track_proposals = [t for t in tracks if t['data'][-1][0] > idx - thre]\n",
        "        n, m = len(track_proposals), len(poses)\n",
        "        scores = np.zeros((n, m))\n",
        "\n",
        "        for i in range(n):\n",
        "            for j in range(m):\n",
        "                scores[i][j] = dist_ske(track_proposals[i]['data'][-1][1], poses[j])\n",
        "\n",
        "        row, col = linear_sum_assignment(scores)\n",
        "        for r, c in zip(row, col):\n",
        "            track_proposals[r]['data'].append((idx, poses[c]))\n",
        "        if m > n:\n",
        "            for j in range(m):\n",
        "                if j not in col:\n",
        "                    num_tracks += 1\n",
        "                    new_track = dict(data=[])\n",
        "                    new_track['track_id'] = num_tracks\n",
        "                    new_track['data'] = [(idx, poses[j])]\n",
        "                    tracks.append(new_track)\n",
        "    if num_joints is None:\n",
        "        return None, None\n",
        "    tracks.sort(key=lambda x: -len(x['data']))\n",
        "    result = np.zeros((max_tracks, len(pose_results), num_joints, 3), dtype=np.float16)\n",
        "    for i, track in enumerate(tracks[:max_tracks]):\n",
        "        for item in track['data']:\n",
        "            idx, pose = item\n",
        "            result[i, idx] = pose\n",
        "    return result[..., :2], result[..., 2]\n",
        "\n",
        "\n",
        "def main():\n",
        "    args = parse_args()\n",
        "\n",
        "    frame_paths, original_frames = frame_extraction(args.video,\n",
        "                                                    args.short_side)\n",
        "    num_frame = len(frame_paths)\n",
        "    h, w, _ = original_frames[0].shape\n",
        "\n",
        "    config = mmcv.Config.fromfile(args.config)\n",
        "    config.data.test.pipeline = [x for x in config.data.test.pipeline if x['type'] != 'DecompressPose']\n",
        "    # Are we using GCN for Infernece?\n",
        "    GCN_flag = 'GCN' in config.model.type\n",
        "    GCN_nperson = None\n",
        "    if GCN_flag:\n",
        "        format_op = [op for op in config.data.test.pipeline if op['type'] == 'FormatGCNInput'][0]\n",
        "        # We will set the default value of GCN_nperson to 2, which is\n",
        "        # the default arg of FormatGCNInput\n",
        "        GCN_nperson = format_op.get('num_person', 2)\n",
        "\n",
        "    model = init_recognizer(config, args.checkpoint, args.device)\n",
        "\n",
        "    # Load label_map\n",
        "    label_map = [x.strip() for x in open(args.label_map).readlines()]\n",
        "\n",
        "    # Get Human detection results\n",
        "    det_results = detection_inference(args, frame_paths)\n",
        "    torch.cuda.empty_cache()\n",
        "\n",
        "    pose_results = pose_inference(args, frame_paths, det_results)\n",
        "    torch.cuda.empty_cache()\n",
        "\n",
        "    fake_anno = dict(\n",
        "        frame_dir='',\n",
        "        label=-1,\n",
        "        img_shape=(h, w),\n",
        "        original_shape=(h, w),\n",
        "        start_index=0,\n",
        "        modality='Pose',\n",
        "        total_frames=num_frame)\n",
        "\n",
        "    if GCN_flag:\n",
        "        # We will keep at most `GCN_nperson` persons per frame.\n",
        "        tracking_inputs = [[pose['keypoints'] for pose in poses] for poses in pose_results]\n",
        "        keypoint, keypoint_score = pose_tracking(tracking_inputs, max_tracks=GCN_nperson)\n",
        "        fake_anno['keypoint'] = keypoint\n",
        "        fake_anno['keypoint_score'] = keypoint_score\n",
        "    else:\n",
        "        num_person = max([len(x) for x in pose_results])\n",
        "        # Current PoseC3D models are trained on COCO-keypoints (17 keypoints)\n",
        "        num_keypoint = 17\n",
        "        keypoint = np.zeros((num_person, num_frame, num_keypoint, 2),\n",
        "                            dtype=np.float16)\n",
        "        keypoint_score = np.zeros((num_person, num_frame, num_keypoint),\n",
        "                                  dtype=np.float16)\n",
        "        for i, poses in enumerate(pose_results):\n",
        "            for j, pose in enumerate(poses):\n",
        "                pose = pose['keypoints']\n",
        "                keypoint[j, i] = pose[:, :2]\n",
        "                keypoint_score[j, i] = pose[:, 2]\n",
        "        fake_anno['keypoint'] = keypoint\n",
        "        fake_anno['keypoint_score'] = keypoint_score\n",
        "\n",
        "    if fake_anno['keypoint'] is None:\n",
        "        action_label = ''\n",
        "    else:\n",
        "        results = inference_recognizer(model, fake_anno)\n",
        "        action_label = label_map[results[0][0]]\n",
        "\n",
        "    pose_model = init_pose_model(args.pose_config, args.pose_checkpoint,\n",
        "                                 args.device)\n",
        "    vis_frames = [\n",
        "        vis_pose_result(pose_model, frame_paths[i], pose_results[i])\n",
        "        for i in range(num_frame)\n",
        "    ]\n",
        "    for frame in vis_frames:\n",
        "        cv2.putText(frame, action_label, (10, 30), FONTFACE, FONTSCALE,\n",
        "                    FONTCOLOR, THICKNESS, LINETYPE)\n",
        "\n",
        "    vid = mpy.ImageSequenceClip([x[:, :, ::-1] for x in vis_frames], fps=24)\n",
        "    vid.write_videofile(args.out_filename, remove_temp=True)\n",
        "\n",
        "    tmp_frame_dir = osp.dirname(frame_paths[0])\n",
        "    shutil.rmtree(tmp_frame_dir)\n",
        "\n",
        "\n",
        "if __name__ == '__main__':\n",
        "    main()\n",
        "\n",
        "# Running the script\n",
        "!python -c 'from pose_demo import main; main()'\n"
      ],
      "metadata": {
        "colab": {
          "base_uri": "https://localhost:8080/",
          "height": 431,
          "referenced_widgets": [
            "d04e5c47bcea4cfe8e8ff41eec1feaa3",
            "a33e790686af4e5ab2fdd13ef22abb64",
            "1d4a7d08391343fdb9a3c514aac88f7a",
            "cd2c956d2179435a95fbaa4102f44d34",
            "047c982be94a43d884f438b78d9137c8",
            "cbb20d1f394f4ea1b0feac41a7715bb7",
            "71f997ca349247e7aec11324cc845f38",
            "54796388f5da4750ad682f56e9652b94",
            "455962c2d6c6436e86ef5bfc550965aa",
            "72273f51deff48b5b48e494a6bfd7a1e",
            "f0298ab1773b4aa4834967c61184a091",
            "219b80008d0540689600685f0daadcf1",
            "87ec5d56e6d643eba1f64c480c089281",
            "be606586c64f413eb6bce2fe92053880",
            "bc35e4ce9eae4ce691f98518f8e325b7",
            "91ed24dc094242f5bd98d87b274f9482",
            "55675a6fa9fa4a65a84bf5ba5fc78435",
            "bc4b2dcabe6348d48ce954dbfd854a09",
            "fe8955f7b3394371a100da8e2e7fcc55",
            "3f5cf7317c124730aeb1297c717942e3",
            "d97a3ed8d5644e13a61ab6e391c83db7",
            "e11bcbff60764c2ea7c320d543c767e9"
          ]
        },
        "id": "4ArVjmz3llGP",
        "outputId": "32ce9a1b-318d-4da1-be70-7e1825c3b017"
      },
      "execution_count": 25,
      "outputs": [
        {
          "output_type": "stream",
          "name": "stdout",
          "text": [
            "load checkpoint from local path: .cache/joint_f6bed715.pth\n",
            "load checkpoint from http path: https://download.openmmlab.com/mmdetection/v2.0/faster_rcnn/faster_rcnn_r50_fpn_1x_coco-person/faster_rcnn_r50_fpn_1x_coco-person_20201216_175929-d022e227.pth\n"
          ]
        },
        {
          "output_type": "stream",
          "name": "stderr",
          "text": [
            "Downloading: \"https://download.openmmlab.com/mmdetection/v2.0/faster_rcnn/faster_rcnn_r50_fpn_1x_coco-person/faster_rcnn_r50_fpn_1x_coco-person_20201216_175929-d022e227.pth\" to /root/.cache/torch/hub/checkpoints/faster_rcnn_r50_fpn_1x_coco-person_20201216_175929-d022e227.pth\n"
          ]
        },
        {
          "output_type": "display_data",
          "data": {
            "text/plain": [
              "  0%|          | 0.00/158M [00:00<?, ?B/s]"
            ],
            "application/vnd.jupyter.widget-view+json": {
              "version_major": 2,
              "version_minor": 0,
              "model_id": "d04e5c47bcea4cfe8e8ff41eec1feaa3"
            }
          },
          "metadata": {}
        },
        {
          "output_type": "stream",
          "name": "stdout",
          "text": [
            "Performing Human Detection for each frame\n",
            "[                                                  ] 0/74, elapsed: 0s, ETA:"
          ]
        },
        {
          "output_type": "stream",
          "name": "stderr",
          "text": [
            "WARNING:py.warnings:/usr/local/lib/python3.10/dist-packages/mmdet/datasets/utils.py:66: UserWarning: \"ImageToTensor\" pipeline is replaced by \"DefaultFormatBundle\" for batch inference. It is recommended to manually replace it in the test data pipeline in your config file.\n",
            "  warnings.warn(\n",
            "\n"
          ]
        },
        {
          "output_type": "stream",
          "name": "stdout",
          "text": [
            "[>>>>>>>>>>>>>>>>>>>>>>>>>>>>>>>>>>>>>>>>>>>>>>>>>>] 74/74, 6.1 task/s, elapsed: 12s, ETA:     0sload checkpoint from http path: https://download.openmmlab.com/mmpose/top_down/hrnet/hrnet_w32_coco_256x192-c78dce93_20200708.pth\n"
          ]
        },
        {
          "output_type": "stream",
          "name": "stderr",
          "text": [
            "Downloading: \"https://download.openmmlab.com/mmpose/top_down/hrnet/hrnet_w32_coco_256x192-c78dce93_20200708.pth\" to /root/.cache/torch/hub/checkpoints/hrnet_w32_coco_256x192-c78dce93_20200708.pth\n"
          ]
        },
        {
          "output_type": "display_data",
          "data": {
            "text/plain": [
              "  0%|          | 0.00/109M [00:00<?, ?B/s]"
            ],
            "application/vnd.jupyter.widget-view+json": {
              "version_major": 2,
              "version_minor": 0,
              "model_id": "219b80008d0540689600685f0daadcf1"
            }
          },
          "metadata": {}
        },
        {
          "output_type": "stream",
          "name": "stdout",
          "text": [
            "Performing Human Pose Estimation for each frame\n",
            "[>>>>>>>>>>>>>>>>>>>>>>>>>>>>>>>>>>>>>>>>>>>>>>>>>>] 74/74, 8.7 task/s, elapsed: 8s, ETA:     0sload checkpoint from http path: https://download.openmmlab.com/mmpose/top_down/hrnet/hrnet_w32_coco_256x192-c78dce93_20200708.pth\n",
            "Moviepy - Building video /content/drive/My Drive/output.mp4.\n",
            "Moviepy - Writing video /content/drive/My Drive/output.mp4\n",
            "\n"
          ]
        },
        {
          "output_type": "stream",
          "name": "stderr",
          "text": []
        },
        {
          "output_type": "stream",
          "name": "stdout",
          "text": [
            "Moviepy - Done !\n",
            "Moviepy - video ready /content/drive/My Drive/output.mp4\n",
            "Traceback (most recent call last):\n",
            "  File \"<string>\", line 1, in <module>\n",
            "ModuleNotFoundError: No module named 'pose_demo'\n"
          ]
        }
      ]
    }
  ]
}