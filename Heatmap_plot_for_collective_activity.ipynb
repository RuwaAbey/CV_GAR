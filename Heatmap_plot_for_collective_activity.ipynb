{
  "nbformat": 4,
  "nbformat_minor": 0,
  "metadata": {
    "colab": {
      "provenance": [],
      "gpuType": "T4",
      "include_colab_link": true
    },
    "kernelspec": {
      "name": "python3",
      "display_name": "Python 3"
    },
    "language_info": {
      "name": "python"
    },
    "accelerator": "GPU"
  },
  "cells": [
    {
      "cell_type": "markdown",
      "metadata": {
        "id": "view-in-github",
        "colab_type": "text"
      },
      "source": [
        "<a href=\"https://colab.research.google.com/github/RuwaAbey/Finaly_Year_Project_G09/blob/main/Heatmap_plot_for_collective_activity.ipynb\" target=\"_parent\"><img src=\"https://colab.research.google.com/assets/colab-badge.svg\" alt=\"Open In Colab\"/></a>"
      ]
    },
    {
      "cell_type": "code",
      "execution_count": null,
      "metadata": {
        "colab": {
          "base_uri": "https://localhost:8080/"
        },
        "id": "G3s8fkzrkXDO",
        "outputId": "95a74324-ca04-45cd-9320-362945ef41c0"
      },
      "outputs": [
        {
          "output_type": "stream",
          "name": "stdout",
          "text": [
            "2.6.0+cu124\n",
            "True\n",
            "Tesla T4\n"
          ]
        }
      ],
      "source": [
        "import torch\n",
        "print(torch.__version__)\n",
        "print(torch.cuda.is_available())\n",
        "print(torch.cuda.get_device_name(0))\n"
      ]
    },
    {
      "cell_type": "code",
      "source": [
        "\n",
        "!pip install mmcv==1.5.0\n",
        "!pip install fvcore"
      ],
      "metadata": {
        "colab": {
          "base_uri": "https://localhost:8080/"
        },
        "id": "X9w7DkJ4krxB",
        "outputId": "b2b348d4-9f9b-42ff-f316-0f626bbfece6"
      },
      "execution_count": null,
      "outputs": [
        {
          "output_type": "stream",
          "name": "stdout",
          "text": [
            "Requirement already satisfied: mmcv==1.5.0 in /usr/local/lib/python3.11/dist-packages (1.5.0)\n",
            "Requirement already satisfied: addict in /usr/local/lib/python3.11/dist-packages (from mmcv==1.5.0) (2.4.0)\n",
            "Requirement already satisfied: numpy in /usr/local/lib/python3.11/dist-packages (from mmcv==1.5.0) (1.26.4)\n",
            "Requirement already satisfied: packaging in /usr/local/lib/python3.11/dist-packages (from mmcv==1.5.0) (24.2)\n",
            "Requirement already satisfied: Pillow in /usr/local/lib/python3.11/dist-packages (from mmcv==1.5.0) (11.1.0)\n",
            "Requirement already satisfied: pyyaml in /usr/local/lib/python3.11/dist-packages (from mmcv==1.5.0) (6.0.2)\n",
            "Requirement already satisfied: yapf in /usr/local/lib/python3.11/dist-packages (from mmcv==1.5.0) (0.43.0)\n",
            "Requirement already satisfied: platformdirs>=3.5.1 in /usr/local/lib/python3.11/dist-packages (from yapf->mmcv==1.5.0) (4.3.7)\n",
            "Requirement already satisfied: fvcore in /usr/local/lib/python3.11/dist-packages (0.1.5.post20221221)\n",
            "Requirement already satisfied: numpy in /usr/local/lib/python3.11/dist-packages (from fvcore) (1.26.4)\n",
            "Requirement already satisfied: yacs>=0.1.6 in /usr/local/lib/python3.11/dist-packages (from fvcore) (0.1.8)\n",
            "Requirement already satisfied: pyyaml>=5.1 in /usr/local/lib/python3.11/dist-packages (from fvcore) (6.0.2)\n",
            "Requirement already satisfied: tqdm in /usr/local/lib/python3.11/dist-packages (from fvcore) (4.67.1)\n",
            "Requirement already satisfied: termcolor>=1.1 in /usr/local/lib/python3.11/dist-packages (from fvcore) (2.5.0)\n",
            "Requirement already satisfied: Pillow in /usr/local/lib/python3.11/dist-packages (from fvcore) (11.1.0)\n",
            "Requirement already satisfied: tabulate in /usr/local/lib/python3.11/dist-packages (from fvcore) (0.9.0)\n",
            "Requirement already satisfied: iopath>=0.1.7 in /usr/local/lib/python3.11/dist-packages (from fvcore) (0.1.10)\n",
            "Requirement already satisfied: typing-extensions in /usr/local/lib/python3.11/dist-packages (from iopath>=0.1.7->fvcore) (4.13.0)\n",
            "Requirement already satisfied: portalocker in /usr/local/lib/python3.11/dist-packages (from iopath>=0.1.7->fvcore) (3.1.1)\n"
          ]
        }
      ]
    },
    {
      "cell_type": "code",
      "source": [
        "\n",
        "import mmcv\n",
        "print(mmcv.__version__)\n"
      ],
      "metadata": {
        "colab": {
          "base_uri": "https://localhost:8080/"
        },
        "id": "gbDksclukttQ",
        "outputId": "0d5bc814-e87a-439f-eebd-6fe255bbd394"
      },
      "execution_count": null,
      "outputs": [
        {
          "output_type": "stream",
          "name": "stdout",
          "text": [
            "1.5.0\n"
          ]
        }
      ]
    },
    {
      "cell_type": "code",
      "source": [
        "from google.colab import drive\n",
        "drive.mount('/content/drive')"
      ],
      "metadata": {
        "colab": {
          "base_uri": "https://localhost:8080/"
        },
        "id": "ds5s2p8jk0qr",
        "outputId": "f1ea27d8-0fb9-48ba-b747-b30a71cd2f6f"
      },
      "execution_count": null,
      "outputs": [
        {
          "output_type": "stream",
          "name": "stdout",
          "text": [
            "Drive already mounted at /content/drive; to attempt to forcibly remount, call drive.mount(\"/content/drive\", force_remount=True).\n"
          ]
        }
      ]
    },
    {
      "cell_type": "code",
      "source": [
        "\n",
        "%cd /content/drive/My\\ Drive/G_09"
      ],
      "metadata": {
        "colab": {
          "base_uri": "https://localhost:8080/"
        },
        "id": "njrj6Paek7M6",
        "outputId": "533411be-c418-4a00-f6b3-fd063a9d208a"
      },
      "execution_count": null,
      "outputs": [
        {
          "output_type": "stream",
          "name": "stdout",
          "text": [
            "/content/drive/My Drive/G_09\n"
          ]
        }
      ]
    },
    {
      "cell_type": "code",
      "source": [
        "\n",
        "!git clone https://github.com/kennymckormick/pyskl.git"
      ],
      "metadata": {
        "colab": {
          "base_uri": "https://localhost:8080/"
        },
        "id": "O3FC0u_Ek9iZ",
        "outputId": "74e38b3b-054b-4f71-f805-363cf57ecc49"
      },
      "execution_count": null,
      "outputs": [
        {
          "output_type": "stream",
          "name": "stdout",
          "text": [
            "fatal: destination path 'pyskl' already exists and is not an empty directory.\n"
          ]
        }
      ]
    },
    {
      "cell_type": "code",
      "source": [
        "\n",
        "%cd /content/drive/My\\ Drive/G_09/pyskl"
      ],
      "metadata": {
        "colab": {
          "base_uri": "https://localhost:8080/"
        },
        "id": "AMkJeLY8lASe",
        "outputId": "9e807da7-7751-420b-b8fe-429df0c5176a"
      },
      "execution_count": null,
      "outputs": [
        {
          "output_type": "stream",
          "name": "stdout",
          "text": [
            "/content/drive/My Drive/G_09/pyskl\n"
          ]
        }
      ]
    },
    {
      "cell_type": "code",
      "source": [
        "!pip uninstall numpy\n",
        "\n",
        "!pip install \"numpy<2\"\n",
        "import numpy\n",
        "import pyskl\n",
        "#import numpy as np"
      ],
      "metadata": {
        "colab": {
          "base_uri": "https://localhost:8080/"
        },
        "id": "vDqcyT4TlGJ0",
        "outputId": "a544c457-26cd-4b07-bbee-f96a02a5b0a6"
      },
      "execution_count": null,
      "outputs": [
        {
          "output_type": "stream",
          "name": "stdout",
          "text": [
            "Found existing installation: numpy 1.26.4\n",
            "Uninstalling numpy-1.26.4:\n",
            "  Would remove:\n",
            "    /usr/local/bin/f2py\n",
            "    /usr/local/lib/python3.11/dist-packages/numpy-1.26.4.dist-info/*\n",
            "    /usr/local/lib/python3.11/dist-packages/numpy.libs/libgfortran-040039e1.so.5.0.0\n",
            "    /usr/local/lib/python3.11/dist-packages/numpy.libs/libopenblas64_p-r0-0cf96a72.3.23.dev.so\n",
            "    /usr/local/lib/python3.11/dist-packages/numpy.libs/libquadmath-96973f99.so.0.0.0\n",
            "    /usr/local/lib/python3.11/dist-packages/numpy/*\n",
            "Proceed (Y/n)? Y\n",
            "  Successfully uninstalled numpy-1.26.4\n",
            "Collecting numpy<2\n",
            "  Using cached numpy-1.26.4-cp311-cp311-manylinux_2_17_x86_64.manylinux2014_x86_64.whl.metadata (61 kB)\n",
            "Using cached numpy-1.26.4-cp311-cp311-manylinux_2_17_x86_64.manylinux2014_x86_64.whl (18.3 MB)\n",
            "Installing collected packages: numpy\n",
            "Successfully installed numpy-1.26.4\n"
          ]
        }
      ]
    },
    {
      "cell_type": "code",
      "source": [
        "import pickle\n",
        "\n",
        "%cd /content/drive/MyDrive/\n",
        "\n",
        "# Load the pickle file\n",
        "with open( 'pose_results_activity.pkl', 'rb') as f:\n",
        "    data = pickle.load(f)\n",
        "\n",
        "# Check the top-level keys\n",
        "print(data.keys())  # Should print: ['split', 'annotations']\n"
      ],
      "metadata": {
        "colab": {
          "base_uri": "https://localhost:8080/"
        },
        "id": "Zsp5UKYIlIXx",
        "outputId": "0bbd8312-b842-4946-88c7-b08693c5e36e"
      },
      "execution_count": null,
      "outputs": [
        {
          "output_type": "stream",
          "name": "stdout",
          "text": [
            "/content/drive/MyDrive\n",
            "dict_keys(['keypoint', 'keypoint_score', 'frame_dir', 'label', 'img_shape', 'original_shape', 'total_frames'])\n"
          ]
        }
      ]
    },
    {
      "cell_type": "code",
      "source": [
        "annos = data\n",
        "print(annos)\n"
      ],
      "metadata": {
        "colab": {
          "base_uri": "https://localhost:8080/"
        },
        "id": "6ipVD_qSlTUV",
        "outputId": "82ec1031-6267-4e3b-9bef-7514866a027e"
      },
      "execution_count": null,
      "outputs": [
        {
          "output_type": "stream",
          "name": "stdout",
          "text": [
            "{'keypoint': array([[[[234.94794, 145.05833],\n",
            "         [238.96425, 141.04202],\n",
            "         [234.94794, 141.04202],\n",
            "         [251.01317, 141.04202],\n",
            "         [234.94794, 143.05019],\n",
            "         [265.07025, 167.14803],\n",
            "         [234.94794, 165.13986],\n",
            "         [277.11917, 197.27032],\n",
            "         [230.93164, 195.26216],\n",
            "         [275.111  , 223.37631],\n",
            "         [220.89087, 219.36   ],\n",
            "         [259.04578, 227.39262],\n",
            "         [236.95609, 227.39262],\n",
            "         [259.04578, 271.572  ],\n",
            "         [234.94794, 271.572  ],\n",
            "         [257.03763, 313.7432 ],\n",
            "         [234.94794, 313.7432 ]]],\n",
            "\n",
            "\n",
            "       [[[129.73827, 163.08287],\n",
            "         [131.66637, 159.22665],\n",
            "         [125.88205, 161.15475],\n",
            "         [137.45068, 163.08287],\n",
            "         [120.09774, 165.01097],\n",
            "         [135.52257, 184.292  ],\n",
            "         [120.09774, 186.22011],\n",
            "         [135.52257, 207.42926],\n",
            "         [122.02584, 217.06978],\n",
            "         [147.0912 , 209.35736],\n",
            "         [141.30688, 209.35736],\n",
            "         [137.45068, 240.20703],\n",
            "         [127.81016, 242.13513],\n",
            "         [133.59447, 284.5534 ],\n",
            "         [143.23499, 284.5534 ],\n",
            "         [122.02584, 328.8998 ],\n",
            "         [141.30688, 330.8279 ]]],\n",
            "\n",
            "\n",
            "       [[[526.1717 , 148.55896],\n",
            "         [529.8871 , 144.84354],\n",
            "         [526.1717 , 144.84354],\n",
            "         [539.17566, 148.55896],\n",
            "         [526.1717 , 146.70125],\n",
            "         [550.32196, 168.99384],\n",
            "         [522.45624, 170.85155],\n",
            "         [555.89514, 196.85957],\n",
            "         [520.5985 , 195.00185],\n",
            "         [554.0374 , 222.86758],\n",
            "         [518.7408 , 217.29443],\n",
            "         [542.8911 , 222.86758],\n",
            "         [524.31396, 222.86758],\n",
            "         [542.8911 , 265.59503],\n",
            "         [528.0294 , 265.59503],\n",
            "         [548.46423, 302.74936],\n",
            "         [537.318  , 300.89163]]],\n",
            "\n",
            "\n",
            "       [[[430.49368, 147.54224],\n",
            "         [428.5112 , 143.57732],\n",
            "         [428.5112 , 143.57732],\n",
            "         [416.6165 , 147.54224],\n",
            "         [420.5814 , 147.54224],\n",
            "         [420.5814 , 169.34926],\n",
            "         [418.59894, 171.33171],\n",
            "         [446.35333, 181.24399],\n",
            "         [450.31824, 183.22644],\n",
            "         [442.3884 , 161.41943],\n",
            "         [442.3884 , 161.41943],\n",
            "         [424.5463 , 226.84048],\n",
            "         [422.56384, 228.82294],\n",
            "         [422.56384, 272.43698],\n",
            "         [424.5463 , 274.41943],\n",
            "         [414.63403, 312.0861 ],\n",
            "         [414.63403, 314.06854]]]], dtype=float32), 'keypoint_score': array([[[0.92735445, 0.963289  , 0.9544184 , 0.9629164 , 0.62525564,\n",
            "         0.88407505, 0.93034446, 0.8731841 , 0.87245953, 0.90125316,\n",
            "         0.8788229 , 0.7892609 , 0.8113052 , 0.8423513 , 0.8753345 ,\n",
            "         0.8423774 , 0.8808217 ]],\n",
            "\n",
            "       [[0.9428245 , 0.9621712 , 0.9675194 , 0.90497696, 0.9230552 ,\n",
            "         0.78451335, 0.9184785 , 0.49478674, 0.9385854 , 0.6754652 ,\n",
            "         0.85779154, 0.741218  , 0.7619319 , 0.8214983 , 0.83074176,\n",
            "         0.8670634 , 0.8525015 ]],\n",
            "\n",
            "       [[0.90687776, 0.90652096, 0.9191023 , 0.93568456, 0.660373  ,\n",
            "         0.87658304, 0.924552  , 0.86181414, 0.7861884 , 0.88753355,\n",
            "         0.67824215, 0.76685995, 0.7963904 , 0.85114324, 0.8446721 ,\n",
            "         0.8519344 , 0.84726644]],\n",
            "\n",
            "       [[0.90666753, 0.7976694 , 0.91629136, 0.63740146, 0.9087324 ,\n",
            "         0.6919953 , 0.90448326, 0.67553043, 0.904919  , 0.67280936,\n",
            "         0.90251815, 0.65794164, 0.7689887 , 0.7883004 , 0.8274981 ,\n",
            "         0.78201747, 0.82575786]]], dtype=float32), 'frame_dir': 'S001C001P001R001A001', 'label': 0, 'img_shape': (480, 720), 'original_shape': (480, 720), 'total_frames': 1}\n"
          ]
        }
      ]
    },
    {
      "cell_type": "code",
      "source": [],
      "metadata": {
        "id": "YG3hL2pPwC1i"
      },
      "execution_count": null,
      "outputs": []
    },
    {
      "cell_type": "code",
      "source": [
        "keypoint_pipeline = [\n",
        "    dict(type='PoseDecode'),\n",
        "    dict(type='PoseCompact', hw_ratio=1., allow_imgpad=True),\n",
        "    dict(type='Resize', scale=(-1, 64)),\n",
        "    dict(type='CenterCrop', crop_size=64),\n",
        "    dict(type='GeneratePoseTarget', with_kp=True, with_limb=False)\n",
        "]\n",
        "\n",
        "limb_pipeline = [\n",
        "    dict(type='PoseDecode'),\n",
        "    dict(type='PoseCompact', hw_ratio=1., allow_imgpad=True),\n",
        "    dict(type='Resize', scale=(-1, 64)),\n",
        "    dict(type='CenterCrop', crop_size=64),\n",
        "    dict(type='GeneratePoseTarget', with_kp=False, with_limb=True)\n",
        "]\n",
        "\n",
        "from pyskl.datasets.pipelines import Compose\n",
        "def get_pseudo_heatmap(anno, flag='keypoint'):\n",
        "    assert flag in ['keypoint', 'limb']\n",
        "    pipeline = Compose(keypoint_pipeline if flag == 'keypoint' else limb_pipeline)\n",
        "    return pipeline(anno)['imgs']\n",
        "\n",
        "def vis_heatmaps(heatmaps, channel=-1, ratio=8):\n",
        "    # if channel is -1, draw all keypoints / limbs on the same map\n",
        "    import matplotlib.cm as cm\n",
        "    heatmaps = [x.transpose(1, 2, 0) for x in heatmaps]\n",
        "    h, w, _ = heatmaps[0].shape\n",
        "    newh, neww = int(h * ratio), int(w * ratio)\n",
        "\n",
        "    if channel == -1:\n",
        "        heatmaps = [np.max(x, axis=-1) for x in heatmaps]\n",
        "    cmap = cm.viridis\n",
        "    heatmaps = [(cmap(x)[..., :3] * 255).astype(np.uint8) for x in heatmaps]\n",
        "    heatmaps = [cv2.resize(x, (neww, newh)) for x in heatmaps]\n",
        "    return heatmaps"
      ],
      "metadata": {
        "colab": {
          "base_uri": "https://localhost:8080/"
        },
        "id": "eKQINVTMldbY",
        "outputId": "07d4ca0d-3075-4e5d-e395-490d2ee526b5"
      },
      "execution_count": null,
      "outputs": [
        {
          "output_type": "stream",
          "name": "stderr",
          "text": [
            "WARNING:py.warnings:/usr/local/lib/python3.11/dist-packages/moviepy/video/io/sliders.py:61: SyntaxWarning: \"is\" with a literal. Did you mean \"==\"?\n",
            "  if event.key is 'enter':\n",
            "\n"
          ]
        }
      ]
    },
    {
      "cell_type": "code",
      "source": [
        "\n"
      ],
      "metadata": {
        "id": "6jrJVgnrupG_"
      },
      "execution_count": null,
      "outputs": []
    },
    {
      "cell_type": "code",
      "source": [
        "\n",
        "import numpy as np\n",
        "import matplotlib.pyplot as plt\n",
        "import cv2\n",
        "\n",
        "# Your provided pose annotation dictionary\n",
        "anno = annos\n",
        "\n",
        "# Generate the heatmaps\n",
        "heatmaps = get_pseudo_heatmap(anno, flag='keypoint')  # For keypoints\n",
        "# heatmaps = get_pseudo_heatmap(anno, flag='limb')   # Uncomment for limb heatmaps\n",
        "\n",
        "# Visualize the heatmaps\n",
        "visualized_heatmaps = vis_heatmaps(heatmaps, channel=-1)\n",
        "\n",
        "# Display the first heatmap\n",
        "#plt.imshow(visualized_heatmaps[0])\n",
        "#plt.axis('off')  # Hide axes\n",
        "#plt.show()\n",
        "\n",
        "for heatmap in visualized_heatmaps:\n",
        "    plt.imshow(heatmap)\n",
        "    plt.axis('off')  # Hide axes\n",
        "    plt.show()"
      ],
      "metadata": {
        "colab": {
          "base_uri": "https://localhost:8080/",
          "height": 406
        },
        "id": "zqr8qGbRlgLX",
        "outputId": "b364911a-5640-47dd-cd58-8fdc022b6f82"
      },
      "execution_count": null,
      "outputs": [
        {
          "output_type": "display_data",
          "data": {
            "text/plain": [
              "<Figure size 640x480 with 1 Axes>"
            ],
            "image/png": "[encoded data removed]"
          },
          "metadata": {}
        }
      ]
    }
  ]
}