{
  "nbformat": 4,
  "nbformat_minor": 0,
  "metadata": {
    "colab": {
      "provenance": [],
      "gpuType": "T4",
      "authorship_tag": "ABX9TyPSeDSCCG3QAWVlpcjoMBLD",
      "include_colab_link": true
    },
    "kernelspec": {
      "name": "python3",
      "display_name": "Python 3"
    },
    "language_info": {
      "name": "python"
    },
    "accelerator": "GPU"
  },
  "cells": [
    {
      "cell_type": "markdown",
      "metadata": {
        "id": "view-in-github",
        "colab_type": "text"
      },
      "source": [
        "<a href=\"https://colab.research.google.com/github/RuwaAbey/Finaly_Year_Project_G09/blob/main/Heatmap_plot_for_volleyball.ipynb\" target=\"_parent\"><img src=\"https://colab.research.google.com/assets/colab-badge.svg\" alt=\"Open In Colab\"/></a>"
      ]
    },
    {
      "cell_type": "code",
      "execution_count": null,
      "metadata": {
        "colab": {
          "base_uri": "https://localhost:8080/"
        },
        "id": "G3s8fkzrkXDO",
        "outputId": "704ce888-4150-46e1-d644-29f6193a96ca"
      },
      "outputs": [
        {
          "output_type": "stream",
          "name": "stdout",
          "text": [
            "2.6.0+cu124\n",
            "True\n",
            "Tesla T4\n"
          ]
        }
      ],
      "source": [
        "import torch\n",
        "print(torch.__version__)\n",
        "print(torch.cuda.is_available())\n",
        "print(torch.cuda.get_device_name(0))\n"
      ]
    },
    {
      "cell_type": "code",
      "source": [
        "\n",
        "!pip install mmcv==1.5.0\n",
        "!pip install fvcore"
      ],
      "metadata": {
        "colab": {
          "base_uri": "https://localhost:8080/"
        },
        "id": "X9w7DkJ4krxB",
        "outputId": "cb386c2d-8a40-49ae-c0ff-5ec9d08a6df1"
      },
      "execution_count": null,
      "outputs": [
        {
          "output_type": "stream",
          "name": "stdout",
          "text": [
            "Requirement already satisfied: mmcv==1.5.0 in /usr/local/lib/python3.11/dist-packages (1.5.0)\n",
            "Requirement already satisfied: addict in /usr/local/lib/python3.11/dist-packages (from mmcv==1.5.0) (2.4.0)\n",
            "Requirement already satisfied: numpy in /usr/local/lib/python3.11/dist-packages (from mmcv==1.5.0) (1.26.4)\n",
            "Requirement already satisfied: packaging in /usr/local/lib/python3.11/dist-packages (from mmcv==1.5.0) (24.2)\n",
            "Requirement already satisfied: Pillow in /usr/local/lib/python3.11/dist-packages (from mmcv==1.5.0) (11.1.0)\n",
            "Requirement already satisfied: pyyaml in /usr/local/lib/python3.11/dist-packages (from mmcv==1.5.0) (6.0.2)\n",
            "Requirement already satisfied: yapf in /usr/local/lib/python3.11/dist-packages (from mmcv==1.5.0) (0.43.0)\n",
            "Requirement already satisfied: platformdirs>=3.5.1 in /usr/local/lib/python3.11/dist-packages (from yapf->mmcv==1.5.0) (4.3.7)\n",
            "Requirement already satisfied: fvcore in /usr/local/lib/python3.11/dist-packages (0.1.5.post20221221)\n",
            "Requirement already satisfied: numpy in /usr/local/lib/python3.11/dist-packages (from fvcore) (1.26.4)\n",
            "Requirement already satisfied: yacs>=0.1.6 in /usr/local/lib/python3.11/dist-packages (from fvcore) (0.1.8)\n",
            "Requirement already satisfied: pyyaml>=5.1 in /usr/local/lib/python3.11/dist-packages (from fvcore) (6.0.2)\n",
            "Requirement already satisfied: tqdm in /usr/local/lib/python3.11/dist-packages (from fvcore) (4.67.1)\n",
            "Requirement already satisfied: termcolor>=1.1 in /usr/local/lib/python3.11/dist-packages (from fvcore) (2.5.0)\n",
            "Requirement already satisfied: Pillow in /usr/local/lib/python3.11/dist-packages (from fvcore) (11.1.0)\n",
            "Requirement already satisfied: tabulate in /usr/local/lib/python3.11/dist-packages (from fvcore) (0.9.0)\n",
            "Requirement already satisfied: iopath>=0.1.7 in /usr/local/lib/python3.11/dist-packages (from fvcore) (0.1.10)\n",
            "Requirement already satisfied: typing-extensions in /usr/local/lib/python3.11/dist-packages (from iopath>=0.1.7->fvcore) (4.13.0)\n",
            "Requirement already satisfied: portalocker in /usr/local/lib/python3.11/dist-packages (from iopath>=0.1.7->fvcore) (3.1.1)\n"
          ]
        }
      ]
    },
    {
      "cell_type": "code",
      "source": [
        "\n",
        "import mmcv\n",
        "print(mmcv.__version__)\n"
      ],
      "metadata": {
        "colab": {
          "base_uri": "https://localhost:8080/"
        },
        "id": "gbDksclukttQ",
        "outputId": "b5608acf-3750-4277-afd8-dba29013440f"
      },
      "execution_count": null,
      "outputs": [
        {
          "output_type": "stream",
          "name": "stdout",
          "text": [
            "1.5.0\n"
          ]
        }
      ]
    },
    {
      "cell_type": "code",
      "source": [
        "from google.colab import drive\n",
        "drive.mount('/content/drive')"
      ],
      "metadata": {
        "colab": {
          "base_uri": "https://localhost:8080/"
        },
        "id": "ds5s2p8jk0qr",
        "outputId": "0f0e8850-1203-4316-d461-0649895d9dd7"
      },
      "execution_count": null,
      "outputs": [
        {
          "output_type": "stream",
          "name": "stdout",
          "text": [
            "Drive already mounted at /content/drive; to attempt to forcibly remount, call drive.mount(\"/content/drive\", force_remount=True).\n"
          ]
        }
      ]
    },
    {
      "cell_type": "code",
      "source": [
        "\n",
        "%cd /content/drive/My\\ Drive/Projects"
      ],
      "metadata": {
        "colab": {
          "base_uri": "https://localhost:8080/"
        },
        "id": "njrj6Paek7M6",
        "outputId": "fbe89d53-550a-4039-e19e-b2ceea4e1524"
      },
      "execution_count": null,
      "outputs": [
        {
          "output_type": "stream",
          "name": "stdout",
          "text": [
            "/content/drive/My Drive/Projects\n"
          ]
        }
      ]
    },
    {
      "cell_type": "code",
      "source": [
        "\n",
        "!git clone https://github.com/kennymckormick/pyskl.git"
      ],
      "metadata": {
        "colab": {
          "base_uri": "https://localhost:8080/"
        },
        "id": "O3FC0u_Ek9iZ",
        "outputId": "9b241f29-3542-4bcb-e993-8f74210322a9"
      },
      "execution_count": null,
      "outputs": [
        {
          "output_type": "stream",
          "name": "stdout",
          "text": [
            "fatal: destination path 'pyskl' already exists and is not an empty directory.\n"
          ]
        }
      ]
    },
    {
      "cell_type": "code",
      "source": [
        "\n",
        "%cd /content/drive/My\\ Drive/Projects/pyskl"
      ],
      "metadata": {
        "colab": {
          "base_uri": "https://localhost:8080/"
        },
        "id": "AMkJeLY8lASe",
        "outputId": "eb5ef0b4-0ff6-4914-b5ae-04972fe8db7c"
      },
      "execution_count": null,
      "outputs": [
        {
          "output_type": "stream",
          "name": "stdout",
          "text": [
            "/content/drive/My Drive/Projects/pyskl\n"
          ]
        }
      ]
    },
    {
      "cell_type": "code",
      "source": [
        "!pip uninstall numpy\n",
        "\n",
        "!pip install \"numpy<2\"\n",
        "import numpy\n",
        "import pyskl\n",
        "#import numpy as np"
      ],
      "metadata": {
        "colab": {
          "base_uri": "https://localhost:8080/"
        },
        "id": "vDqcyT4TlGJ0",
        "outputId": "43afb65a-1600-4c83-e8c4-90fccab44671"
      },
      "execution_count": null,
      "outputs": [
        {
          "output_type": "stream",
          "name": "stdout",
          "text": [
            "Found existing installation: numpy 1.26.4\n",
            "Uninstalling numpy-1.26.4:\n",
            "  Would remove:\n",
            "    /usr/local/bin/f2py\n",
            "    /usr/local/lib/python3.11/dist-packages/numpy-1.26.4.dist-info/*\n",
            "    /usr/local/lib/python3.11/dist-packages/numpy.libs/libgfortran-040039e1.so.5.0.0\n",
            "    /usr/local/lib/python3.11/dist-packages/numpy.libs/libopenblas64_p-r0-0cf96a72.3.23.dev.so\n",
            "    /usr/local/lib/python3.11/dist-packages/numpy.libs/libquadmath-96973f99.so.0.0.0\n",
            "    /usr/local/lib/python3.11/dist-packages/numpy/*\n",
            "Proceed (Y/n)? YY\n",
            "Your response ('yy') was not one of the expected responses: y, n, \n",
            "Proceed (Y/n)? Y\n",
            "  Successfully uninstalled numpy-1.26.4\n",
            "Collecting numpy<2\n",
            "  Using cached numpy-1.26.4-cp311-cp311-manylinux_2_17_x86_64.manylinux2014_x86_64.whl.metadata (61 kB)\n",
            "Using cached numpy-1.26.4-cp311-cp311-manylinux_2_17_x86_64.manylinux2014_x86_64.whl (18.3 MB)\n",
            "Installing collected packages: numpy\n",
            "Successfully installed numpy-1.26.4\n"
          ]
        }
      ]
    },
    {
      "cell_type": "code",
      "source": [
        "import pickle\n",
        "\n",
        "%cd /content/drive/MyDrive/\n",
        "\n",
        "# Load the pickle file\n",
        "with open( 'pose_results.pkl', 'rb') as f:\n",
        "    data = pickle.load(f)\n",
        "\n",
        "# Check the top-level keys\n",
        "print(data.keys())  # Should print: ['split', 'annotations']\n"
      ],
      "metadata": {
        "colab": {
          "base_uri": "https://localhost:8080/"
        },
        "id": "Zsp5UKYIlIXx",
        "outputId": "b20a0f90-acc1-4256-fcc3-09156f1a55f9"
      },
      "execution_count": null,
      "outputs": [
        {
          "output_type": "stream",
          "name": "stdout",
          "text": [
            "/content/drive/MyDrive\n",
            "dict_keys(['keypoint', 'keypoint_score', 'frame_dir', 'label', 'img_shape', 'original_shape', 'total_frames'])\n"
          ]
        }
      ]
    },
    {
      "cell_type": "code",
      "source": [
        "annos = data\n",
        "print(annos)\n"
      ],
      "metadata": {
        "colab": {
          "base_uri": "https://localhost:8080/"
        },
        "id": "6ipVD_qSlTUV",
        "outputId": "040f465c-4d75-412d-dc27-ee0e9e074f2f"
      },
      "execution_count": null,
      "outputs": [
        {
          "output_type": "stream",
          "name": "stdout",
          "text": [
            "{'keypoint': array([[[[1041.7881 ,  372.81543],\n",
            "         [1043.2041 ,  369.9834 ],\n",
            "         [1040.3721 ,  369.9834 ],\n",
            "         [1046.0361 ,  371.3994 ],\n",
            "         [1036.124  ,  369.9834 ],\n",
            "         [1051.7002 ,  381.31152],\n",
            "         [1030.46   ,  381.31152],\n",
            "         [1072.9404 ,  374.23145],\n",
            "         [1013.4678 ,  375.64746],\n",
            "         [1088.5166 ,  367.15137],\n",
            "         [1000.72363,  365.73535],\n",
            "         [1047.4521 ,  419.54395],\n",
            "         [1034.708  ,  419.54395],\n",
            "         [1044.6201 ,  447.86426],\n",
            "         [1037.54   ,  449.28027],\n",
            "         [1038.956  ,  473.35254],\n",
            "         [1040.3721 ,  479.0166 ]]],\n",
            "\n",
            "\n",
            "       [[[1198.8203 ,  374.52344],\n",
            "         [1201.4766 ,  373.1953 ],\n",
            "         [1197.4922 ,  371.8672 ],\n",
            "         [1205.4609 ,  375.85156],\n",
            "         [1196.1641 ,  374.52344],\n",
            "         [1210.7734 ,  389.1328 ],\n",
            "         [1189.5234 ,  387.8047 ],\n",
            "         [1226.7109 ,  393.1172 ],\n",
            "         [1166.9453 ,  386.47656],\n",
            "         [1237.3359 ,  391.78906],\n",
            "         [1156.3203 ,  375.85156],\n",
            "         [1204.1328 ,  424.9922 ],\n",
            "         [1189.5234 ,  423.66406],\n",
            "         [1209.4453 ,  451.5547 ],\n",
            "         [1184.2109 ,  452.8828 ],\n",
            "         [1212.1016 ,  471.47656],\n",
            "         [1184.2109 ,  482.10156]]],\n",
            "\n",
            "\n",
            "       [[[ 781.18555,  422.4707 ],\n",
            "         [ 783.80273,  419.85352],\n",
            "         [ 778.56836,  419.85352],\n",
            "         [ 789.0371 ,  419.85352],\n",
            "         [ 775.9512 ,  421.1621 ],\n",
            "         [ 792.9629 ,  434.24805],\n",
            "         [ 779.87695,  431.63086],\n",
            "         [ 804.74023,  453.87695],\n",
            "         [ 781.18555,  451.25977],\n",
            "         [ 804.74023,  474.81445],\n",
            "         [ 772.0254 ,  461.72852],\n",
            "         [ 795.5801 ,  470.88867],\n",
            "         [ 782.49414,  469.58008],\n",
            "         [ 802.12305,  499.67773],\n",
            "         [ 770.7168 ,  495.75195],\n",
            "         [ 811.2832 ,  528.4668 ],\n",
            "         [ 766.791  ,  524.541  ]]],\n",
            "\n",
            "\n",
            "       [[[1025.956  ,  533.58105],\n",
            "         [1027.3525 ,  530.7881 ],\n",
            "         [1023.1631 ,  532.1846 ],\n",
            "         [1028.749  ,  530.7881 ],\n",
            "         [1014.7842 ,  530.7881 ],\n",
            "         [1030.1455 ,  544.7529 ],\n",
            "         [1005.0088 ,  544.7529 ],\n",
            "         [1035.7314 ,  562.9072 ],\n",
            "         [ 998.02637,  568.49316],\n",
            "         [1037.1279 ,  582.458  ],\n",
            "         [1005.0088 ,  585.251  ],\n",
            "         [1025.956  ,  586.64746],\n",
            "         [1010.5947 ,  586.64746],\n",
            "         [1017.57715,  622.95605],\n",
            "         [1013.3877 ,  620.1631 ],\n",
            "         [1007.80176,  646.6963 ],\n",
            "         [1017.57715,  655.0752 ]]],\n",
            "\n",
            "\n",
            "       [[[ 671.0801 ,  403.7832 ],\n",
            "         [ 672.31055,  401.32227],\n",
            "         [ 669.8496 ,  400.0918 ],\n",
            "         [ 678.4629 ,  400.0918 ],\n",
            "         [ 668.61914,  400.0918 ],\n",
            "         [ 687.0762 ,  413.62695],\n",
            "         [ 664.92773,  413.62695],\n",
            "         [ 695.68945,  433.31445],\n",
            "         [ 662.4668 ,  430.85352],\n",
            "         [ 699.38086,  451.77148],\n",
            "         [ 660.00586,  455.4629 ],\n",
            "         [ 684.61523,  444.38867],\n",
            "         [ 669.8496 ,  444.38867],\n",
            "         [ 695.68945,  471.45898],\n",
            "         [ 663.69727,  475.1504 ],\n",
            "         [ 705.5332 ,  494.8379 ],\n",
            "         [ 663.69727,  500.99023]]],\n",
            "\n",
            "\n",
            "       [[[1197.0342 ,  474.23926],\n",
            "         [1199.749  ,  471.5244 ],\n",
            "         [1195.6768 ,  471.5244 ],\n",
            "         [1206.5361 ,  471.5244 ],\n",
            "         [1194.3193 ,  472.88184],\n",
            "         [1214.6807 ,  487.81348],\n",
            "         [1197.0342 ,  485.09863],\n",
            "         [1222.8252 ,  506.81738],\n",
            "         [1198.3916 ,  502.74512],\n",
            "         [1224.1826 ,  525.8213 ],\n",
            "         [1199.749  ,  521.749  ],\n",
            "         [1213.3232 ,  520.3916 ],\n",
            "         [1202.4639 ,  519.0342 ],\n",
            "         [1210.6084 ,  551.6123 ],\n",
            "         [1206.5361 ,  550.2549 ],\n",
            "         [1218.7529 ,  580.11816],\n",
            "         [1209.251  ,  576.0459 ]]],\n",
            "\n",
            "\n",
            "       [[[ 638.00684,  419.65332],\n",
            "         [ 639.3447 ,  418.31543],\n",
            "         [ 635.33105,  418.31543],\n",
            "         [ 642.0205 ,  416.97754],\n",
            "         [ 632.6553 ,  418.31543],\n",
            "         [ 647.3721 ,  429.01855],\n",
            "         [ 627.3037 ,  430.35645],\n",
            "         [ 654.0615 ,  445.07324],\n",
            "         [ 632.6553 ,  447.74902],\n",
            "         [ 659.4131 ,  457.11426],\n",
            "         [ 639.3447 ,  433.03223],\n",
            "         [ 644.6963 ,  463.8037 ],\n",
            "         [ 632.6553 ,  463.8037 ],\n",
            "         [ 650.04785,  493.2373 ],\n",
            "         [ 632.6553 ,  493.2373 ],\n",
            "         [ 650.04785,  518.6572 ],\n",
            "         [ 632.6553 ,  515.98145]]],\n",
            "\n",
            "\n",
            "       [[[ 586.19727,  458.23633],\n",
            "         [ 586.19727,  455.61914],\n",
            "         [ 586.19727,  455.61914],\n",
            "         [ 574.4199 ,  455.61914],\n",
            "         [ 583.5801 ,  456.92773],\n",
            "         [ 571.80273,  466.0879 ],\n",
            "         [ 575.7285 ,  470.01367],\n",
            "         [ 575.7285 ,  487.0254 ],\n",
            "         [ 575.7285 ,  490.95117],\n",
            "         [ 583.5801 ,  490.95117],\n",
            "         [ 590.12305,  502.72852],\n",
            "         [ 574.4199 ,  501.41992],\n",
            "         [ 571.80273,  502.72852],\n",
            "         [ 590.12305,  523.666  ],\n",
            "         [ 582.2715 ,  531.5176 ],\n",
            "         [ 584.8887 ,  551.1465 ],\n",
            "         [ 575.7285 ,  560.30664]]],\n",
            "\n",
            "\n",
            "       [[[ 651.85547,  364.5039 ],\n",
            "         [ 654.4336 ,  361.92578],\n",
            "         [ 649.27734,  363.21484],\n",
            "         [ 657.0117 ,  363.21484],\n",
            "         [ 647.9883 ,  363.21484],\n",
            "         [ 662.16797,  373.52734],\n",
            "         [ 647.9883 ,  373.52734],\n",
            "         [ 675.0586 ,  387.70703],\n",
            "         [ 645.41016,  387.70703],\n",
            "         [ 673.76953,  398.01953],\n",
            "         [ 637.6758 ,  399.3086 ],\n",
            "         [ 666.03516,  407.04297],\n",
            "         [ 655.72266,  408.33203],\n",
            "         [ 666.03516,  430.2461 ],\n",
            "         [ 654.4336 ,  430.2461 ],\n",
            "         [ 662.16797,  456.02734],\n",
            "         [ 659.58984,  456.02734]]]], dtype=float32), 'keypoint_score': array([[[0.90821826, 0.9418955 , 0.93794024, 0.9228616 , 0.95425665,\n",
            "         0.9187157 , 0.9134457 , 0.8204253 , 0.9410191 , 0.8834944 ,\n",
            "         0.8968159 , 0.82794714, 0.8103179 , 0.7876005 , 0.84530383,\n",
            "         0.42326576, 0.8368149 ]],\n",
            "\n",
            "       [[0.9191834 , 0.9206381 , 0.9168055 , 0.9026589 , 0.8807938 ,\n",
            "         0.87708706, 0.879495  , 0.76448405, 0.89425516, 0.71990204,\n",
            "         0.92746866, 0.8436135 , 0.8274255 , 0.84410584, 0.84761155,\n",
            "         0.772372  , 0.83729005]],\n",
            "\n",
            "       [[0.93401295, 0.9672407 , 0.9418123 , 0.9265377 , 0.8671051 ,\n",
            "         0.8537046 , 0.8184847 , 0.8571316 , 0.75016713, 0.8952122 ,\n",
            "         0.76976144, 0.7240448 , 0.72711027, 0.7558805 , 0.8679403 ,\n",
            "         0.8252338 , 0.81485736]],\n",
            "\n",
            "       [[0.70005906, 0.70837784, 0.75091213, 0.5364493 , 0.7158704 ,\n",
            "         0.65788203, 0.6190682 , 0.69246835, 0.36186868, 0.68519706,\n",
            "         0.39276376, 0.6277828 , 0.54907584, 0.5257941 , 0.4141094 ,\n",
            "         0.5755265 , 0.40462056]],\n",
            "\n",
            "       [[0.82326174, 0.79979813, 0.779141  , 0.9207256 , 0.797572  ,\n",
            "         0.8706914 , 0.84973073, 0.82362294, 0.6753094 , 0.8862058 ,\n",
            "         0.5488431 , 0.7672061 , 0.7416133 , 0.76013064, 0.8279351 ,\n",
            "         0.8409575 , 0.8204557 ]],\n",
            "\n",
            "       [[0.90268433, 0.9388719 , 0.9407226 , 0.9011048 , 0.77284276,\n",
            "         0.84847295, 0.8628844 , 0.8825486 , 0.6094409 , 0.8280964 ,\n",
            "         0.5726764 , 0.7398411 , 0.72852075, 0.75616467, 0.71424055,\n",
            "         0.79439855, 0.8143042 ]],\n",
            "\n",
            "       [[0.8780271 , 0.90553606, 0.89245594, 0.8923016 , 0.90881   ,\n",
            "         0.9001237 , 0.89837474, 0.8121956 , 0.8781836 , 0.76434463,\n",
            "         0.8082427 , 0.7804669 , 0.7784709 , 0.7011955 , 0.7613574 ,\n",
            "         0.6496414 , 0.7905079 ]],\n",
            "\n",
            "       [[0.8202164 , 0.6805731 , 0.8740363 , 0.83370763, 0.9043709 ,\n",
            "         0.81680584, 0.85413885, 0.6195859 , 0.86477995, 0.8066029 ,\n",
            "         0.8613468 , 0.6120626 , 0.79029447, 0.80966884, 0.81521213,\n",
            "         0.711524  , 0.79952645]],\n",
            "\n",
            "       [[0.9555286 , 0.9447093 , 0.94013864, 0.893813  , 0.97278804,\n",
            "         0.8691086 , 0.89015925, 0.8827728 , 0.8865224 , 0.70553064,\n",
            "         0.85693526, 0.78383195, 0.8279942 , 0.460244  , 0.6799127 ,\n",
            "         0.39608485, 0.48298144]]], dtype=float32), 'frame_dir': 'S001C001P001R001A001', 'label': 0, 'img_shape': (720, 1280), 'original_shape': (720, 1280), 'total_frames': 1}\n"
          ]
        }
      ]
    },
    {
      "cell_type": "code",
      "source": [],
      "metadata": {
        "id": "YG3hL2pPwC1i"
      },
      "execution_count": null,
      "outputs": []
    },
    {
      "cell_type": "code",
      "source": [
        "keypoint_pipeline = [\n",
        "    dict(type='PoseDecode'),\n",
        "    dict(type='PoseCompact', hw_ratio=1., allow_imgpad=True),\n",
        "    dict(type='Resize', scale=(-1, 64)),\n",
        "    dict(type='CenterCrop', crop_size=64),\n",
        "    dict(type='GeneratePoseTarget', with_kp=True, with_limb=False)\n",
        "]\n",
        "\n",
        "limb_pipeline = [\n",
        "    dict(type='PoseDecode'),\n",
        "    dict(type='PoseCompact', hw_ratio=1., allow_imgpad=True),\n",
        "    dict(type='Resize', scale=(-1, 64)),\n",
        "    dict(type='CenterCrop', crop_size=64),\n",
        "    dict(type='GeneratePoseTarget', with_kp=False, with_limb=True)\n",
        "]\n",
        "\n",
        "from pyskl.datasets.pipelines import Compose\n",
        "def get_pseudo_heatmap(anno, flag='keypoint'):\n",
        "    assert flag in ['keypoint', 'limb']\n",
        "    pipeline = Compose(keypoint_pipeline if flag == 'keypoint' else limb_pipeline)\n",
        "    return pipeline(anno)['imgs']\n",
        "\n",
        "def vis_heatmaps(heatmaps, channel=-1, ratio=8):\n",
        "    # if channel is -1, draw all keypoints / limbs on the same map\n",
        "    import matplotlib.cm as cm\n",
        "    heatmaps = [x.transpose(1, 2, 0) for x in heatmaps]\n",
        "    h, w, _ = heatmaps[0].shape\n",
        "    newh, neww = int(h * ratio), int(w * ratio)\n",
        "\n",
        "    if channel == -1:\n",
        "        heatmaps = [np.max(x, axis=-1) for x in heatmaps]\n",
        "    cmap = cm.viridis\n",
        "    heatmaps = [(cmap(x)[..., :3] * 255).astype(np.uint8) for x in heatmaps]\n",
        "    heatmaps = [cv2.resize(x, (neww, newh)) for x in heatmaps]\n",
        "    return heatmaps"
      ],
      "metadata": {
        "colab": {
          "base_uri": "https://localhost:8080/"
        },
        "id": "eKQINVTMldbY",
        "outputId": "3ff5aa70-f945-43e1-d990-04a52d002b12"
      },
      "execution_count": null,
      "outputs": [
        {
          "output_type": "stream",
          "name": "stderr",
          "text": [
            "WARNING:py.warnings:/usr/local/lib/python3.11/dist-packages/moviepy/video/io/sliders.py:61: SyntaxWarning: \"is\" with a literal. Did you mean \"==\"?\n",
            "  if event.key is 'enter':\n",
            "\n"
          ]
        }
      ]
    },
    {
      "cell_type": "code",
      "source": [
        "\n"
      ],
      "metadata": {
        "id": "6jrJVgnrupG_"
      },
      "execution_count": null,
      "outputs": []
    },
    {
      "cell_type": "code",
      "source": [
        "\n",
        "import numpy as np\n",
        "import matplotlib.pyplot as plt\n",
        "import cv2\n",
        "\n",
        "# Your provided pose annotation dictionary\n",
        "anno = annos\n",
        "\n",
        "# Generate the heatmaps\n",
        "heatmaps = get_pseudo_heatmap(anno, flag='keypoint')  # For keypoints\n",
        "# heatmaps = get_pseudo_heatmap(anno, flag='limb')   # Uncomment for limb heatmaps\n",
        "\n",
        "# Visualize the heatmaps\n",
        "visualized_heatmaps = vis_heatmaps(heatmaps, channel=-1)\n",
        "\n",
        "# Display the first heatmap\n",
        "#plt.imshow(visualized_heatmaps[0])\n",
        "#plt.axis('off')  # Hide axes\n",
        "#plt.show()\n",
        "\n",
        "for heatmap in visualized_heatmaps:\n",
        "    plt.imshow(heatmap)\n",
        "    plt.axis('off')  # Hide axes\n",
        "    plt.show()"
      ],
      "metadata": {
        "colab": {
          "base_uri": "https://localhost:8080/",
          "height": 406
        },
        "id": "zqr8qGbRlgLX",
        "outputId": "51267b04-4ae3-4a36-c256-c7dd3d6b920b"
      },
      "execution_count": null,
      "outputs": [
        {
          "output_type": "display_data",
          "data": {
            "text/plain": [
              "<Figure size 640x480 with 1 Axes>"
            ],
            "image/png": "[encoded data removed]"
          },
          "metadata": {}
        }
      ]
    }
  ]
}