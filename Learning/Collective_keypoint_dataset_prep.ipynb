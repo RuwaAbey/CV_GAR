{
  "nbformat": 4,
  "nbformat_minor": 0,
  "metadata": {
    "colab": {
      "provenance": [],
      "authorship_tag": "ABX9TyPOJcewndgbHZva1MIbUghX",
      "include_colab_link": true
    },
    "kernelspec": {
      "name": "python3",
      "display_name": "Python 3"
    },
    "language_info": {
      "name": "python"
    }
  },
  "cells": [
    {
      "cell_type": "markdown",
      "metadata": {
        "id": "view-in-github",
        "colab_type": "text"
      },
      "source": [
        "<a href=\"https://colab.research.google.com/github/RuwaAbey/Computer_vision_based_group_activity_detection/blob/main/Collective_keypoint_dataset_prep.ipynb\" target=\"_parent\"><img src=\"https://colab.research.google.com/assets/colab-badge.svg\" alt=\"Open In Colab\"/></a>"
      ]
    },
    {
      "cell_type": "code",
      "execution_count": 1,
      "metadata": {
        "colab": {
          "base_uri": "https://localhost:8080/"
        },
        "id": "gRV88vSdsRjW",
        "outputId": "d40b607a-723a-4c0d-9482-daaae0b773f5"
      },
      "outputs": [
        {
          "output_type": "stream",
          "name": "stdout",
          "text": [
            "Mounted at /content/drive\n"
          ]
        }
      ],
      "source": [
        "\n",
        "from google.colab import drive\n",
        "drive.mount('/content/drive')"
      ]
    },
    {
      "cell_type": "code",
      "source": [
        "import pickle\n",
        "\n",
        "%cd /content/drive/My\\ Drive/Collective\n",
        "\n",
        "# Load the pickle file\n",
        "with open('collective_keypoints.pkl', 'rb') as f:\n",
        "    data = pickle.load(f)\n",
        "\n",
        "# Check the top-level keys\n",
        "print(data.keys())  # Should print: ['split', 'annotations']"
      ],
      "metadata": {
        "colab": {
          "base_uri": "https://localhost:8080/"
        },
        "id": "Jykp_mDzsSPS",
        "outputId": "12f742cc-b8e1-43a3-8bc5-2143acea173f"
      },
      "execution_count": 2,
      "outputs": [
        {
          "output_type": "stream",
          "name": "stdout",
          "text": [
            "/content/drive/My Drive/Collective\n",
            "dict_keys(['seq01', 'seq02', 'seq03', 'seq04', 'seq05', 'seq06', 'seq07', 'seq08', 'seq09', 'seq10', 'seq11', 'seq12', 'seq13', 'seq14', 'seq15', 'seq16', 'seq17', 'seq18', 'seq19', 'seq20', 'seq21', 'seq22', 'seq23', 'seq24', 'seq25', 'seq26', 'seq27', 'seq28', 'seq29', 'seq30', 'seq31', 'seq32', 'seq33', 'seq34', 'seq35', 'seq36', 'seq37', 'seq38', 'seq39', 'seq40', 'seq41', 'seq42', 'seq43', 'seq44'])\n"
          ]
        }
      ]
    },
    {
      "cell_type": "code",
      "source": [
        "\n",
        "# Access the split field\n",
        "seq_01 = data['seq01'].keys()\n",
        "print(seq_01)\n"
      ],
      "metadata": {
        "colab": {
          "base_uri": "https://localhost:8080/"
        },
        "id": "h2Blq0RgsrGf",
        "outputId": "356ded98-3cbd-4cc6-9360-a99e8cc43b7f"
      },
      "execution_count": 6,
      "outputs": [
        {
          "output_type": "stream",
          "name": "stdout",
          "text": [
            "dict_keys([1, 11, 21, 31, 41, 51, 61, 71, 81, 91, 101, 111, 121, 131, 141, 151, 161, 171, 181, 191, 201, 211, 221, 231, 241, 251, 261, 271, 281, 291])\n"
          ]
        }
      ]
    },
    {
      "cell_type": "code",
      "source": [
        "seq01_1 = data['seq01'][1].keys()\n",
        "print(seq01_1)"
      ],
      "metadata": {
        "colab": {
          "base_uri": "https://localhost:8080/"
        },
        "id": "uhN0BoodSWB1",
        "outputId": "f166e609-e706-4fbf-8e93-c43b78cab6dc"
      },
      "execution_count": 9,
      "outputs": [
        {
          "output_type": "stream",
          "name": "stdout",
          "text": [
            "dict_keys(['keypoints', 'keypoint_scores', 'boxes'])\n"
          ]
        }
      ]
    },
    {
      "cell_type": "code",
      "source": [
        "seq01_1_keypoints = data['seq01'][1]['keypoints']\n",
        "print(seq01_1_keypoints.shape)\n",
        "\n",
        "seq01_1_keypoint_scores = data['seq01'][1]['keypoint_scores']\n",
        "print(seq01_1_keypoint_scores.shape)\n",
        "\n",
        "seq01_1_boxes = data['seq01'][1]['boxes']\n",
        "print(seq01_1_boxes.shape)\n"
      ],
      "metadata": {
        "colab": {
          "base_uri": "https://localhost:8080/"
        },
        "id": "U8meRw52Sn4g",
        "outputId": "527f1e4d-967e-477e-f60a-c0c4f40df7c6"
      },
      "execution_count": 12,
      "outputs": [
        {
          "output_type": "stream",
          "name": "stdout",
          "text": [
            "(13, 10, 17, 2)\n",
            "(13, 10, 17)\n",
            "(13, 10, 4)\n"
          ]
        }
      ]
    }
  ]
}