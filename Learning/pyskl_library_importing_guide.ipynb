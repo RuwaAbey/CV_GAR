{
  "nbformat": 4,
  "nbformat_minor": 0,
  "metadata": {
    "colab": {
      "provenance": [],
      "gpuType": "T4",
      "authorship_tag": "ABX9TyOvpBZMAolOwzeSS7uxVUPP",
      "include_colab_link": true
    },
    "kernelspec": {
      "name": "python3",
      "display_name": "Python 3"
    },
    "language_info": {
      "name": "python"
    },
    "accelerator": "GPU"
  },
  "cells": [
    {
      "cell_type": "markdown",
      "metadata": {
        "id": "view-in-github",
        "colab_type": "text"
      },
      "source": [
        "<a href=\"https://colab.research.google.com/github/RuwaAbey/Finaly_Year_Project_G09/blob/main/pyskl_library_importing_guide.ipynb\" target=\"_parent\"><img src=\"https://colab.research.google.com/assets/colab-badge.svg\" alt=\"Open In Colab\"/></a>"
      ]
    },
    {
      "cell_type": "code",
      "source": [
        "import torch\n",
        "print(torch.__version__)  # Should print 1.11.0\n",
        "print(torch.cuda.is_available())  # Should print True if CUDA is available"
      ],
      "metadata": {
        "colab": {
          "base_uri": "https://localhost:8080/"
        },
        "id": "UazCbpZNOyz0",
        "outputId": "6349ee44-6e9b-4812-ad04-b1be81193904"
      },
      "execution_count": 2,
      "outputs": [
        {
          "output_type": "stream",
          "name": "stdout",
          "text": [
            "2.5.1+cu124\n",
            "True\n"
          ]
        }
      ]
    },
    {
      "cell_type": "code",
      "source": [
        "!pip install mmcv==1.5.0\n",
        "!pip install fvcore"
      ],
      "metadata": {
        "colab": {
          "base_uri": "https://localhost:8080/"
        },
        "id": "fYgcrH_SOz7K",
        "outputId": "c5da9bf7-fea5-4301-b9c2-ee2f2098b1cd"
      },
      "execution_count": 19,
      "outputs": [
        {
          "output_type": "stream",
          "name": "stdout",
          "text": [
            "\u001b[33mWARNING: Ignoring invalid distribution -orch (/usr/local/lib/python3.10/dist-packages)\u001b[0m\u001b[33m\n",
            "\u001b[0mRequirement already satisfied: mmcv==1.5.0 in /usr/local/lib/python3.10/dist-packages (1.5.0)\n",
            "Requirement already satisfied: addict in /usr/local/lib/python3.10/dist-packages (from mmcv==1.5.0) (2.4.0)\n",
            "Requirement already satisfied: numpy in /usr/local/lib/python3.10/dist-packages (from mmcv==1.5.0) (1.26.4)\n",
            "Requirement already satisfied: packaging in /usr/local/lib/python3.10/dist-packages (from mmcv==1.5.0) (24.2)\n",
            "Requirement already satisfied: Pillow in /usr/local/lib/python3.10/dist-packages (from mmcv==1.5.0) (11.0.0)\n",
            "Requirement already satisfied: pyyaml in /usr/local/lib/python3.10/dist-packages (from mmcv==1.5.0) (6.0.2)\n",
            "Requirement already satisfied: yapf in /usr/local/lib/python3.10/dist-packages (from mmcv==1.5.0) (0.43.0)\n",
            "Requirement already satisfied: platformdirs>=3.5.1 in /usr/local/lib/python3.10/dist-packages (from yapf->mmcv==1.5.0) (4.3.6)\n",
            "Requirement already satisfied: tomli>=2.0.1 in /usr/local/lib/python3.10/dist-packages (from yapf->mmcv==1.5.0) (2.2.1)\n",
            "\u001b[33mWARNING: Ignoring invalid distribution -orch (/usr/local/lib/python3.10/dist-packages)\u001b[0m\u001b[33m\n",
            "\u001b[0m\u001b[33mWARNING: Ignoring invalid distribution -orch (/usr/local/lib/python3.10/dist-packages)\u001b[0m\u001b[33m\n",
            "\u001b[0mRequirement already satisfied: fvcore in /usr/local/lib/python3.10/dist-packages (0.1.5.post20221221)\n",
            "Requirement already satisfied: numpy in /usr/local/lib/python3.10/dist-packages (from fvcore) (1.26.4)\n",
            "Requirement already satisfied: yacs>=0.1.6 in /usr/local/lib/python3.10/dist-packages (from fvcore) (0.1.8)\n",
            "Requirement already satisfied: pyyaml>=5.1 in /usr/local/lib/python3.10/dist-packages (from fvcore) (6.0.2)\n",
            "Requirement already satisfied: tqdm in /usr/local/lib/python3.10/dist-packages (from fvcore) (4.67.1)\n",
            "Requirement already satisfied: termcolor>=1.1 in /usr/local/lib/python3.10/dist-packages (from fvcore) (2.5.0)\n",
            "Requirement already satisfied: Pillow in /usr/local/lib/python3.10/dist-packages (from fvcore) (11.0.0)\n",
            "Requirement already satisfied: tabulate in /usr/local/lib/python3.10/dist-packages (from fvcore) (0.9.0)\n",
            "Requirement already satisfied: iopath>=0.1.7 in /usr/local/lib/python3.10/dist-packages (from fvcore) (0.1.10)\n",
            "Requirement already satisfied: typing-extensions in /usr/local/lib/python3.10/dist-packages (from iopath>=0.1.7->fvcore) (4.12.2)\n",
            "Requirement already satisfied: portalocker in /usr/local/lib/python3.10/dist-packages (from iopath>=0.1.7->fvcore) (3.1.1)\n",
            "\u001b[33mWARNING: Ignoring invalid distribution -orch (/usr/local/lib/python3.10/dist-packages)\u001b[0m\u001b[33m\n",
            "\u001b[0m"
          ]
        }
      ]
    },
    {
      "cell_type": "code",
      "source": [
        "import mmcv\n",
        "print(mmcv.__version__)"
      ],
      "metadata": {
        "colab": {
          "base_uri": "https://localhost:8080/"
        },
        "id": "_NRRRQsTO5GK",
        "outputId": "89f74e86-3b2c-4069-fc97-ca8269808ee6"
      },
      "execution_count": 6,
      "outputs": [
        {
          "output_type": "stream",
          "name": "stdout",
          "text": [
            "1.5.0\n"
          ]
        }
      ]
    },
    {
      "cell_type": "code",
      "source": [
        "from google.colab import drive\n",
        "drive.mount('/content/drive')"
      ],
      "metadata": {
        "colab": {
          "base_uri": "https://localhost:8080/"
        },
        "id": "Ly-VRw7DO95u",
        "outputId": "8f8da9d0-f66d-48a8-a952-6f3afcf34275"
      },
      "execution_count": 7,
      "outputs": [
        {
          "output_type": "stream",
          "name": "stdout",
          "text": [
            "Drive already mounted at /content/drive; to attempt to forcibly remount, call drive.mount(\"/content/drive\", force_remount=True).\n"
          ]
        }
      ]
    },
    {
      "cell_type": "code",
      "source": [
        "%cd /content/drive/My\\ Drive/G_09"
      ],
      "metadata": {
        "colab": {
          "base_uri": "https://localhost:8080/"
        },
        "id": "9Sav0hxqPprC",
        "outputId": "e5e98bc8-4845-473c-bf54-ced625ab109f"
      },
      "execution_count": 8,
      "outputs": [
        {
          "output_type": "stream",
          "name": "stdout",
          "text": [
            "/content/drive/My Drive/G_09\n"
          ]
        }
      ]
    },
    {
      "cell_type": "code",
      "source": [
        "!git clone https://github.com/kennymckormick/pyskl.git"
      ],
      "metadata": {
        "colab": {
          "base_uri": "https://localhost:8080/"
        },
        "id": "-nyo258SPrcZ",
        "outputId": "f4f55911-1704-4974-8145-4bc9720e5c42"
      },
      "execution_count": 9,
      "outputs": [
        {
          "output_type": "stream",
          "name": "stdout",
          "text": [
            "fatal: destination path 'pyskl' already exists and is not an empty directory.\n"
          ]
        }
      ]
    },
    {
      "cell_type": "code",
      "source": [
        "%cd /content/drive/My\\ Drive/G_09/pyskl"
      ],
      "metadata": {
        "colab": {
          "base_uri": "https://localhost:8080/"
        },
        "id": "ldqzXt9yPtRV",
        "outputId": "41bd7427-bd4b-43ea-e5a2-0f01ea36f552"
      },
      "execution_count": 10,
      "outputs": [
        {
          "output_type": "stream",
          "name": "stdout",
          "text": [
            "/content/drive/My Drive/G_09/pyskl\n"
          ]
        }
      ]
    },
    {
      "cell_type": "code",
      "source": [
        "import pyskl"
      ],
      "metadata": {
        "id": "RgqmsozEP003"
      },
      "execution_count": 20,
      "outputs": []
    },
    {
      "cell_type": "code",
      "source": [
        "from pyskl.datasets.pipelines import formatting"
      ],
      "metadata": {
        "id": "y17wigmFSVHI"
      },
      "execution_count": 21,
      "outputs": []
    },
    {
      "cell_type": "code",
      "source": [
        "import numpy as np"
      ],
      "metadata": {
        "id": "EtJQDIvVXISp"
      },
      "execution_count": 24,
      "outputs": []
    },
    {
      "cell_type": "code",
      "source": [
        "from pyskl.datasets.pipelines import formatting\n",
        "import inspect\n",
        "\n",
        "# List all classes in the formatting module\n",
        "classes = [name for name, obj in inspect.getmembers(formatting, inspect.isclass)]\n",
        "print(\"Classes in formatting module:\", classes)\n"
      ],
      "metadata": {
        "id": "nO83uL0DYA1U",
        "colab": {
          "base_uri": "https://localhost:8080/"
        },
        "outputId": "40362529-a1b3-42fe-e7cd-201bdbb7d5c7"
      },
      "execution_count": 25,
      "outputs": [
        {
          "output_type": "stream",
          "name": "stdout",
          "text": [
            "Classes in formatting module: ['Collect', 'DC', 'FormatShape', 'Rename', 'Sequence', 'ToTensor']\n"
          ]
        }
      ]
    },
    {
      "cell_type": "code",
      "source": [
        "# Example: Inspect a specific class (replace 'ClassName' with the actual class name)\n",
        "help(formatting.Collect)\n"
      ],
      "metadata": {
        "colab": {
          "base_uri": "https://localhost:8080/"
        },
        "id": "WjVBXPlknTSD",
        "outputId": "3fb0d681-b1bd-47f9-c259-46d811bc27ac"
      },
      "execution_count": 27,
      "outputs": [
        {
          "output_type": "stream",
          "name": "stdout",
          "text": [
            "Help on class Collect in module pyskl.datasets.pipelines.formatting:\n",
            "\n",
            "class Collect(builtins.object)\n",
            " |  Collect(keys, meta_keys=('filename', 'label', 'original_shape', 'img_shape', 'pad_shape', 'flip_direction', 'img_norm_cfg'), meta_name='img_metas', nested=False)\n",
            " |  \n",
            " |  Collect data from the loader relevant to the specific task.\n",
            " |  \n",
            " |  This keeps the items in ``keys`` as it is, and collect items in\n",
            " |  ``meta_keys`` into a meta item called ``meta_name``.This is usually\n",
            " |  the last stage of the data loader pipeline.\n",
            " |  For example, when keys='imgs', meta_keys=('filename', 'label',\n",
            " |  'original_shape'), meta_name='img_metas', the results will be a dict with\n",
            " |  keys 'imgs' and 'img_metas', where 'img_metas' is a DataContainer of\n",
            " |  another dict with keys 'filename', 'label', 'original_shape'.\n",
            " |  \n",
            " |  Args:\n",
            " |      keys (Sequence[str]): Required keys to be collected.\n",
            " |      meta_name (str): The name of the key that contains meta information.\n",
            " |          This key is always populated. Default: \"img_metas\".\n",
            " |      meta_keys (Sequence[str]): Keys that are collected under meta_name.\n",
            " |          The contents of the ``meta_name`` dictionary depends on\n",
            " |          ``meta_keys``.\n",
            " |          By default this includes:\n",
            " |  \n",
            " |          - \"filename\": path to the image file\n",
            " |          - \"label\": label of the image file\n",
            " |          - \"original_shape\": original shape of the image as a tuple\n",
            " |              (h, w, c)\n",
            " |          - \"img_shape\": shape of the image input to the network as a tuple\n",
            " |              (h, w, c).  Note that images may be zero padded on the\n",
            " |              bottom/right, if the batch tensor is larger than this shape.\n",
            " |          - \"pad_shape\": image shape after padding\n",
            " |          - \"flip_direction\": a str in (\"horiziontal\", \"vertival\") to\n",
            " |              indicate if the image is fliped horizontally or vertically.\n",
            " |          - \"img_norm_cfg\": a dict of normalization information:\n",
            " |              - mean - per channel mean subtraction\n",
            " |              - std - per channel std divisor\n",
            " |              - to_rgb - bool indicating if bgr was converted to rgb\n",
            " |      nested (bool): If set as True, will apply data[x] = [data[x]] to all\n",
            " |          items in data. The arg is added for compatibility. Default: False.\n",
            " |  \n",
            " |  Methods defined here:\n",
            " |  \n",
            " |  __call__(self, results)\n",
            " |      Performs the Collect formatting.\n",
            " |      \n",
            " |      Args:\n",
            " |          results (dict): The resulting dict to be modified and passed\n",
            " |              to the next transform in pipeline.\n",
            " |  \n",
            " |  __init__(self, keys, meta_keys=('filename', 'label', 'original_shape', 'img_shape', 'pad_shape', 'flip_direction', 'img_norm_cfg'), meta_name='img_metas', nested=False)\n",
            " |      Initialize self.  See help(type(self)) for accurate signature.\n",
            " |  \n",
            " |  __repr__(self)\n",
            " |      Return repr(self).\n",
            " |  \n",
            " |  ----------------------------------------------------------------------\n",
            " |  Data descriptors defined here:\n",
            " |  \n",
            " |  __dict__\n",
            " |      dictionary for instance variables (if defined)\n",
            " |  \n",
            " |  __weakref__\n",
            " |      list of weak references to the object (if defined)\n",
            "\n"
          ]
        }
      ]
    },
    {
      "cell_type": "code",
      "source": [],
      "metadata": {
        "id": "LXvb55pKoJRx"
      },
      "execution_count": null,
      "outputs": []
    }
  ]
}