{
  "nbformat": 4,
  "nbformat_minor": 0,
  "metadata": {
    "colab": {
      "provenance": [],
      "authorship_tag": "ABX9TyOUfz00WR5tL/sqTpnjmzEV",
      "include_colab_link": true
    },
    "kernelspec": {
      "name": "python3",
      "display_name": "Python 3"
    },
    "language_info": {
      "name": "python"
    }
  },
  "cells": [
    {
      "cell_type": "markdown",
      "metadata": {
        "id": "view-in-github",
        "colab_type": "text"
      },
      "source": [
        "<a href=\"https://colab.research.google.com/github/RuwaAbey/Finaly_Year_Project_G09/blob/main/Relation_aware_Map.ipynb\" target=\"_parent\"><img src=\"https://colab.research.google.com/assets/colab-badge.svg\" alt=\"Open In Colab\"/></a>"
      ]
    },
    {
      "cell_type": "code",
      "execution_count": 1,
      "metadata": {
        "id": "1atTjOYu2SzY"
      },
      "outputs": [],
      "source": [
        "import numpy as np\n",
        "import matplotlib.pyplot as plt\n",
        "import torch\n",
        "import torch.nn as nn\n",
        "from torch.autograd import Variable\n",
        "import math"
      ]
    },
    {
      "cell_type": "code",
      "source": [
        "import numpy as np\n",
        "import matplotlib.pyplot as plt\n",
        "import seaborn as sns  # For better heatmap visualization\n",
        "\n",
        "def plot_adjacency_matrix(A, title=\"Adjacency Matrix\"):\n",
        "    plt.figure(figsize=(6, 5))\n",
        "    sns.heatmap(A, annot=False, cmap=\"Blues\", linewidths=0.5, square=True)\n",
        "    plt.title(title)\n",
        "    plt.xlabel(\"Joints\")\n",
        "    plt.ylabel(\"Joints\")\n",
        "    plt.show()\n",
        "\n",
        "# Plot all three adjacency matrices\n",
        "#plot_adjacency_matrix(A[0], \"Self-Links (Identity)\")\n",
        "#plot_adjacency_matrix(A[1], \"Inward Connections\")\n",
        "#plot_adjacency_matrix(A[2], \"Outward Connections\")"
      ],
      "metadata": {
        "id": "DKYyFk_B4Odl"
      },
      "execution_count": 10,
      "outputs": []
    },
    {
      "cell_type": "code",
      "source": [
        "\"\"\"\n",
        "Graph to represent skeleton joints\n",
        "\n",
        "Joint sequence same as COCO format: {\n",
        "    0: nose,\n",
        "    1: left_eye,\n",
        "    2: right_eye,\n",
        "    3: left_ear,\n",
        "    4: right_ear,\n",
        "    5: left_shoulder,\n",
        "    6: right_shoulder,\n",
        "    7: left_elbow,\n",
        "    8: right_elbow,\n",
        "    9: left_wrist,\n",
        "    10: right_wrist,\n",
        "    11: left_hip,\n",
        "    12: right_hip,\n",
        "    13: left_knee,\n",
        "    14: right_knee,\n",
        "    15: left_ankle,\n",
        "    16: right_ankle\n",
        "}\n",
        "\"\"\"\n",
        "\n",
        "num_node = 17 #coco keypoints"
      ],
      "metadata": {
        "id": "ivatMOUp3QYN"
      },
      "execution_count": 2,
      "outputs": []
    },
    {
      "cell_type": "code",
      "source": [
        "self_link = [(i, i) for i in range(num_node)]\n",
        "self_link"
      ],
      "metadata": {
        "colab": {
          "base_uri": "https://localhost:8080/"
        },
        "id": "AMexz2EC3n06",
        "outputId": "6c1dd3f3-e495-4f2d-b038-2c4742da4c3e"
      },
      "execution_count": 3,
      "outputs": [
        {
          "output_type": "execute_result",
          "data": {
            "text/plain": [
              "[(0, 0),\n",
              " (1, 1),\n",
              " (2, 2),\n",
              " (3, 3),\n",
              " (4, 4),\n",
              " (5, 5),\n",
              " (6, 6),\n",
              " (7, 7),\n",
              " (8, 8),\n",
              " (9, 9),\n",
              " (10, 10),\n",
              " (11, 11),\n",
              " (12, 12),\n",
              " (13, 13),\n",
              " (14, 14),\n",
              " (15, 15),\n",
              " (16, 16)]"
            ]
          },
          "metadata": {},
          "execution_count": 3
        }
      ]
    },
    {
      "cell_type": "code",
      "source": [
        "inward = [\n",
        "    (10, 8), (8, 6), (9, 7), (7, 5),  # Arms: Wrist → Elbow → Shoulder\n",
        "    (15, 13), (13, 11), (16, 14), (14, 12),  # Legs: Ankle → Knee → Hip\n",
        "    (11, 5), (12, 6), (11, 12), (5, 6),  # Torso: Hips ↔ Shoulders\n",
        "    (5, 0), (6, 0), (1, 0), (2, 0), (3, 1), (4, 2)  # Face: Nose → Eyes → Ears\n",
        "]"
      ],
      "metadata": {
        "id": "0d2LfdW53qmH"
      },
      "execution_count": 4,
      "outputs": []
    },
    {
      "cell_type": "code",
      "source": [
        "outward = [(j, i) for (i, j) in inward]  # Reverse edges\n",
        "outward"
      ],
      "metadata": {
        "colab": {
          "base_uri": "https://localhost:8080/"
        },
        "id": "VY99NGzv3s83",
        "outputId": "22b0664f-8ae3-42c2-de72-2717393d6195"
      },
      "execution_count": 5,
      "outputs": [
        {
          "output_type": "execute_result",
          "data": {
            "text/plain": [
              "[(8, 10),\n",
              " (6, 8),\n",
              " (7, 9),\n",
              " (5, 7),\n",
              " (13, 15),\n",
              " (11, 13),\n",
              " (14, 16),\n",
              " (12, 14),\n",
              " (5, 11),\n",
              " (6, 12),\n",
              " (12, 11),\n",
              " (6, 5),\n",
              " (0, 5),\n",
              " (0, 6),\n",
              " (0, 1),\n",
              " (0, 2),\n",
              " (1, 3),\n",
              " (2, 4)]"
            ]
          },
          "metadata": {},
          "execution_count": 5
        }
      ]
    },
    {
      "cell_type": "markdown",
      "source": [
        "![image.png](data:image/png;base64,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)"
      ],
      "metadata": {
        "id": "xc4OVM-P3yq3"
      }
    },
    {
      "cell_type": "code",
      "source": [
        "A = np.zeros((num_node, num_node))\n",
        "A"
      ],
      "metadata": {
        "colab": {
          "base_uri": "https://localhost:8080/"
        },
        "id": "64lNQ20f3xoT",
        "outputId": "2e615afc-b619-4cd7-876c-54c81e7bb445"
      },
      "execution_count": 6,
      "outputs": [
        {
          "output_type": "execute_result",
          "data": {
            "text/plain": [
              "array([[0., 0., 0., 0., 0., 0., 0., 0., 0., 0., 0., 0., 0., 0., 0., 0.,\n",
              "        0.],\n",
              "       [0., 0., 0., 0., 0., 0., 0., 0., 0., 0., 0., 0., 0., 0., 0., 0.,\n",
              "        0.],\n",
              "       [0., 0., 0., 0., 0., 0., 0., 0., 0., 0., 0., 0., 0., 0., 0., 0.,\n",
              "        0.],\n",
              "       [0., 0., 0., 0., 0., 0., 0., 0., 0., 0., 0., 0., 0., 0., 0., 0.,\n",
              "        0.],\n",
              "       [0., 0., 0., 0., 0., 0., 0., 0., 0., 0., 0., 0., 0., 0., 0., 0.,\n",
              "        0.],\n",
              "       [0., 0., 0., 0., 0., 0., 0., 0., 0., 0., 0., 0., 0., 0., 0., 0.,\n",
              "        0.],\n",
              "       [0., 0., 0., 0., 0., 0., 0., 0., 0., 0., 0., 0., 0., 0., 0., 0.,\n",
              "        0.],\n",
              "       [0., 0., 0., 0., 0., 0., 0., 0., 0., 0., 0., 0., 0., 0., 0., 0.,\n",
              "        0.],\n",
              "       [0., 0., 0., 0., 0., 0., 0., 0., 0., 0., 0., 0., 0., 0., 0., 0.,\n",
              "        0.],\n",
              "       [0., 0., 0., 0., 0., 0., 0., 0., 0., 0., 0., 0., 0., 0., 0., 0.,\n",
              "        0.],\n",
              "       [0., 0., 0., 0., 0., 0., 0., 0., 0., 0., 0., 0., 0., 0., 0., 0.,\n",
              "        0.],\n",
              "       [0., 0., 0., 0., 0., 0., 0., 0., 0., 0., 0., 0., 0., 0., 0., 0.,\n",
              "        0.],\n",
              "       [0., 0., 0., 0., 0., 0., 0., 0., 0., 0., 0., 0., 0., 0., 0., 0.,\n",
              "        0.],\n",
              "       [0., 0., 0., 0., 0., 0., 0., 0., 0., 0., 0., 0., 0., 0., 0., 0.,\n",
              "        0.],\n",
              "       [0., 0., 0., 0., 0., 0., 0., 0., 0., 0., 0., 0., 0., 0., 0., 0.,\n",
              "        0.],\n",
              "       [0., 0., 0., 0., 0., 0., 0., 0., 0., 0., 0., 0., 0., 0., 0., 0.,\n",
              "        0.],\n",
              "       [0., 0., 0., 0., 0., 0., 0., 0., 0., 0., 0., 0., 0., 0., 0., 0.,\n",
              "        0.]])"
            ]
          },
          "metadata": {},
          "execution_count": 6
        }
      ]
    },
    {
      "cell_type": "code",
      "source": [
        "def edge2mat(link, num_node):\n",
        "    \"\"\" Convert edge list to adjacency matrix \"\"\"\n",
        "    A = np.zeros((num_node, num_node))  # Initialize a zero matrix\n",
        "    for i, j in link:\n",
        "        A[j, i] = 1  # Assign 1 to the adjacency matrix\n",
        "    return A"
      ],
      "metadata": {
        "id": "VA26Yjuc4EeM"
      },
      "execution_count": 7,
      "outputs": []
    },
    {
      "cell_type": "code",
      "source": [
        "#Compute Self-Link Adjacency Matrix\n",
        "I = edge2mat(self_link, num_node)\n",
        "I"
      ],
      "metadata": {
        "colab": {
          "base_uri": "https://localhost:8080/"
        },
        "id": "UgL06nHO4HQq",
        "outputId": "cc8f022c-48ec-4f24-a68d-a24fd0b110dd"
      },
      "execution_count": 8,
      "outputs": [
        {
          "output_type": "execute_result",
          "data": {
            "text/plain": [
              "array([[1., 0., 0., 0., 0., 0., 0., 0., 0., 0., 0., 0., 0., 0., 0., 0.,\n",
              "        0.],\n",
              "       [0., 1., 0., 0., 0., 0., 0., 0., 0., 0., 0., 0., 0., 0., 0., 0.,\n",
              "        0.],\n",
              "       [0., 0., 1., 0., 0., 0., 0., 0., 0., 0., 0., 0., 0., 0., 0., 0.,\n",
              "        0.],\n",
              "       [0., 0., 0., 1., 0., 0., 0., 0., 0., 0., 0., 0., 0., 0., 0., 0.,\n",
              "        0.],\n",
              "       [0., 0., 0., 0., 1., 0., 0., 0., 0., 0., 0., 0., 0., 0., 0., 0.,\n",
              "        0.],\n",
              "       [0., 0., 0., 0., 0., 1., 0., 0., 0., 0., 0., 0., 0., 0., 0., 0.,\n",
              "        0.],\n",
              "       [0., 0., 0., 0., 0., 0., 1., 0., 0., 0., 0., 0., 0., 0., 0., 0.,\n",
              "        0.],\n",
              "       [0., 0., 0., 0., 0., 0., 0., 1., 0., 0., 0., 0., 0., 0., 0., 0.,\n",
              "        0.],\n",
              "       [0., 0., 0., 0., 0., 0., 0., 0., 1., 0., 0., 0., 0., 0., 0., 0.,\n",
              "        0.],\n",
              "       [0., 0., 0., 0., 0., 0., 0., 0., 0., 1., 0., 0., 0., 0., 0., 0.,\n",
              "        0.],\n",
              "       [0., 0., 0., 0., 0., 0., 0., 0., 0., 0., 1., 0., 0., 0., 0., 0.,\n",
              "        0.],\n",
              "       [0., 0., 0., 0., 0., 0., 0., 0., 0., 0., 0., 1., 0., 0., 0., 0.,\n",
              "        0.],\n",
              "       [0., 0., 0., 0., 0., 0., 0., 0., 0., 0., 0., 0., 1., 0., 0., 0.,\n",
              "        0.],\n",
              "       [0., 0., 0., 0., 0., 0., 0., 0., 0., 0., 0., 0., 0., 1., 0., 0.,\n",
              "        0.],\n",
              "       [0., 0., 0., 0., 0., 0., 0., 0., 0., 0., 0., 0., 0., 0., 1., 0.,\n",
              "        0.],\n",
              "       [0., 0., 0., 0., 0., 0., 0., 0., 0., 0., 0., 0., 0., 0., 0., 1.,\n",
              "        0.],\n",
              "       [0., 0., 0., 0., 0., 0., 0., 0., 0., 0., 0., 0., 0., 0., 0., 0.,\n",
              "        1.]])"
            ]
          },
          "metadata": {},
          "execution_count": 8
        }
      ]
    },
    {
      "cell_type": "code",
      "source": [
        "plot_adjacency_matrix(I, \"Self-Links (Identity)\")"
      ],
      "metadata": {
        "colab": {
          "base_uri": "https://localhost:8080/",
          "height": 474
        },
        "id": "3jkD0zlT2t2A",
        "outputId": "d2f9363b-544b-4779-d899-7a685f08b5a4"
      },
      "execution_count": 11,
      "outputs": [
        {
          "output_type": "display_data",
          "data": {
            "text/plain": [
              "<Figure size 600x500 with 2 Axes>"
            ],
            "image/png": "[encoded data removed]"
          },
          "metadata": {}
        }
      ]
    },
    {
      "cell_type": "code",
      "source": [
        "# Compute Inward Adjacency Matrix (In)\n",
        "In = edge2mat(inward, num_node)\n",
        "In"
      ],
      "metadata": {
        "colab": {
          "base_uri": "https://localhost:8080/"
        },
        "id": "Xu-a2pTx4cJm",
        "outputId": "56717e66-065d-4514-d0bc-561b6e019168"
      },
      "execution_count": 12,
      "outputs": [
        {
          "output_type": "execute_result",
          "data": {
            "text/plain": [
              "array([[0., 1., 1., 0., 0., 1., 1., 0., 0., 0., 0., 0., 0., 0., 0., 0.,\n",
              "        0.],\n",
              "       [0., 0., 0., 1., 0., 0., 0., 0., 0., 0., 0., 0., 0., 0., 0., 0.,\n",
              "        0.],\n",
              "       [0., 0., 0., 0., 1., 0., 0., 0., 0., 0., 0., 0., 0., 0., 0., 0.,\n",
              "        0.],\n",
              "       [0., 0., 0., 0., 0., 0., 0., 0., 0., 0., 0., 0., 0., 0., 0., 0.,\n",
              "        0.],\n",
              "       [0., 0., 0., 0., 0., 0., 0., 0., 0., 0., 0., 0., 0., 0., 0., 0.,\n",
              "        0.],\n",
              "       [0., 0., 0., 0., 0., 0., 0., 1., 0., 0., 0., 1., 0., 0., 0., 0.,\n",
              "        0.],\n",
              "       [0., 0., 0., 0., 0., 1., 0., 0., 1., 0., 0., 0., 1., 0., 0., 0.,\n",
              "        0.],\n",
              "       [0., 0., 0., 0., 0., 0., 0., 0., 0., 1., 0., 0., 0., 0., 0., 0.,\n",
              "        0.],\n",
              "       [0., 0., 0., 0., 0., 0., 0., 0., 0., 0., 1., 0., 0., 0., 0., 0.,\n",
              "        0.],\n",
              "       [0., 0., 0., 0., 0., 0., 0., 0., 0., 0., 0., 0., 0., 0., 0., 0.,\n",
              "        0.],\n",
              "       [0., 0., 0., 0., 0., 0., 0., 0., 0., 0., 0., 0., 0., 0., 0., 0.,\n",
              "        0.],\n",
              "       [0., 0., 0., 0., 0., 0., 0., 0., 0., 0., 0., 0., 0., 1., 0., 0.,\n",
              "        0.],\n",
              "       [0., 0., 0., 0., 0., 0., 0., 0., 0., 0., 0., 1., 0., 0., 1., 0.,\n",
              "        0.],\n",
              "       [0., 0., 0., 0., 0., 0., 0., 0., 0., 0., 0., 0., 0., 0., 0., 1.,\n",
              "        0.],\n",
              "       [0., 0., 0., 0., 0., 0., 0., 0., 0., 0., 0., 0., 0., 0., 0., 0.,\n",
              "        1.],\n",
              "       [0., 0., 0., 0., 0., 0., 0., 0., 0., 0., 0., 0., 0., 0., 0., 0.,\n",
              "        0.],\n",
              "       [0., 0., 0., 0., 0., 0., 0., 0., 0., 0., 0., 0., 0., 0., 0., 0.,\n",
              "        0.]])"
            ]
          },
          "metadata": {},
          "execution_count": 12
        }
      ]
    },
    {
      "cell_type": "code",
      "source": [
        "plot_adjacency_matrix(In, \"Inward-Link Adjacency Matrix\")"
      ],
      "metadata": {
        "colab": {
          "base_uri": "https://localhost:8080/",
          "height": 474
        },
        "id": "YxJAECiu3nKS",
        "outputId": "07df7363-e6fc-4b4b-9aaf-2f464b534a86"
      },
      "execution_count": 13,
      "outputs": [
        {
          "output_type": "display_data",
          "data": {
            "text/plain": [
              "<Figure size 600x500 with 2 Axes>"
            ],
            "image/png": "[encoded data removed]"
          },
          "metadata": {}
        }
      ]
    },
    {
      "cell_type": "code",
      "source": [
        "# Compute Outward Adjacency Matrix (Out)\n",
        "Out = edge2mat(outward, num_node)\n",
        "Out"
      ],
      "metadata": {
        "colab": {
          "base_uri": "https://localhost:8080/"
        },
        "id": "YvTpL5hV4lgx",
        "outputId": "36233cab-bde1-48bd-9cf2-adbd193bd68f"
      },
      "execution_count": 14,
      "outputs": [
        {
          "output_type": "execute_result",
          "data": {
            "text/plain": [
              "array([[0., 0., 0., 0., 0., 0., 0., 0., 0., 0., 0., 0., 0., 0., 0., 0.,\n",
              "        0.],\n",
              "       [1., 0., 0., 0., 0., 0., 0., 0., 0., 0., 0., 0., 0., 0., 0., 0.,\n",
              "        0.],\n",
              "       [1., 0., 0., 0., 0., 0., 0., 0., 0., 0., 0., 0., 0., 0., 0., 0.,\n",
              "        0.],\n",
              "       [0., 1., 0., 0., 0., 0., 0., 0., 0., 0., 0., 0., 0., 0., 0., 0.,\n",
              "        0.],\n",
              "       [0., 0., 1., 0., 0., 0., 0., 0., 0., 0., 0., 0., 0., 0., 0., 0.,\n",
              "        0.],\n",
              "       [1., 0., 0., 0., 0., 0., 1., 0., 0., 0., 0., 0., 0., 0., 0., 0.,\n",
              "        0.],\n",
              "       [1., 0., 0., 0., 0., 0., 0., 0., 0., 0., 0., 0., 0., 0., 0., 0.,\n",
              "        0.],\n",
              "       [0., 0., 0., 0., 0., 1., 0., 0., 0., 0., 0., 0., 0., 0., 0., 0.,\n",
              "        0.],\n",
              "       [0., 0., 0., 0., 0., 0., 1., 0., 0., 0., 0., 0., 0., 0., 0., 0.,\n",
              "        0.],\n",
              "       [0., 0., 0., 0., 0., 0., 0., 1., 0., 0., 0., 0., 0., 0., 0., 0.,\n",
              "        0.],\n",
              "       [0., 0., 0., 0., 0., 0., 0., 0., 1., 0., 0., 0., 0., 0., 0., 0.,\n",
              "        0.],\n",
              "       [0., 0., 0., 0., 0., 1., 0., 0., 0., 0., 0., 0., 1., 0., 0., 0.,\n",
              "        0.],\n",
              "       [0., 0., 0., 0., 0., 0., 1., 0., 0., 0., 0., 0., 0., 0., 0., 0.,\n",
              "        0.],\n",
              "       [0., 0., 0., 0., 0., 0., 0., 0., 0., 0., 0., 1., 0., 0., 0., 0.,\n",
              "        0.],\n",
              "       [0., 0., 0., 0., 0., 0., 0., 0., 0., 0., 0., 0., 1., 0., 0., 0.,\n",
              "        0.],\n",
              "       [0., 0., 0., 0., 0., 0., 0., 0., 0., 0., 0., 0., 0., 1., 0., 0.,\n",
              "        0.],\n",
              "       [0., 0., 0., 0., 0., 0., 0., 0., 0., 0., 0., 0., 0., 0., 1., 0.,\n",
              "        0.]])"
            ]
          },
          "metadata": {},
          "execution_count": 14
        }
      ]
    },
    {
      "cell_type": "code",
      "source": [
        "plot_adjacency_matrix(Out, \"Outward Adjacency Matrix\")"
      ],
      "metadata": {
        "colab": {
          "base_uri": "https://localhost:8080/",
          "height": 474
        },
        "id": "BZeWy_074odW",
        "outputId": "d835e11e-f0c2-4d70-aa9c-761716c9aa64"
      },
      "execution_count": 15,
      "outputs": [
        {
          "output_type": "display_data",
          "data": {
            "text/plain": [
              "<Figure size 600x500 with 2 Axes>"
            ],
            "image/png": "[encoded data removed]"
          },
          "metadata": {}
        }
      ]
    },
    {
      "cell_type": "code",
      "source": [
        "A = np.stack((I, In, Out))\n",
        "A"
      ],
      "metadata": {
        "colab": {
          "base_uri": "https://localhost:8080/"
        },
        "id": "3FjIv3P94xyt",
        "outputId": "776d729f-b862-481e-a536-487fe0398400"
      },
      "execution_count": 16,
      "outputs": [
        {
          "output_type": "execute_result",
          "data": {
            "text/plain": [
              "array([[[1., 0., 0., 0., 0., 0., 0., 0., 0., 0., 0., 0., 0., 0., 0., 0.,\n",
              "         0.],\n",
              "        [0., 1., 0., 0., 0., 0., 0., 0., 0., 0., 0., 0., 0., 0., 0., 0.,\n",
              "         0.],\n",
              "        [0., 0., 1., 0., 0., 0., 0., 0., 0., 0., 0., 0., 0., 0., 0., 0.,\n",
              "         0.],\n",
              "        [0., 0., 0., 1., 0., 0., 0., 0., 0., 0., 0., 0., 0., 0., 0., 0.,\n",
              "         0.],\n",
              "        [0., 0., 0., 0., 1., 0., 0., 0., 0., 0., 0., 0., 0., 0., 0., 0.,\n",
              "         0.],\n",
              "        [0., 0., 0., 0., 0., 1., 0., 0., 0., 0., 0., 0., 0., 0., 0., 0.,\n",
              "         0.],\n",
              "        [0., 0., 0., 0., 0., 0., 1., 0., 0., 0., 0., 0., 0., 0., 0., 0.,\n",
              "         0.],\n",
              "        [0., 0., 0., 0., 0., 0., 0., 1., 0., 0., 0., 0., 0., 0., 0., 0.,\n",
              "         0.],\n",
              "        [0., 0., 0., 0., 0., 0., 0., 0., 1., 0., 0., 0., 0., 0., 0., 0.,\n",
              "         0.],\n",
              "        [0., 0., 0., 0., 0., 0., 0., 0., 0., 1., 0., 0., 0., 0., 0., 0.,\n",
              "         0.],\n",
              "        [0., 0., 0., 0., 0., 0., 0., 0., 0., 0., 1., 0., 0., 0., 0., 0.,\n",
              "         0.],\n",
              "        [0., 0., 0., 0., 0., 0., 0., 0., 0., 0., 0., 1., 0., 0., 0., 0.,\n",
              "         0.],\n",
              "        [0., 0., 0., 0., 0., 0., 0., 0., 0., 0., 0., 0., 1., 0., 0., 0.,\n",
              "         0.],\n",
              "        [0., 0., 0., 0., 0., 0., 0., 0., 0., 0., 0., 0., 0., 1., 0., 0.,\n",
              "         0.],\n",
              "        [0., 0., 0., 0., 0., 0., 0., 0., 0., 0., 0., 0., 0., 0., 1., 0.,\n",
              "         0.],\n",
              "        [0., 0., 0., 0., 0., 0., 0., 0., 0., 0., 0., 0., 0., 0., 0., 1.,\n",
              "         0.],\n",
              "        [0., 0., 0., 0., 0., 0., 0., 0., 0., 0., 0., 0., 0., 0., 0., 0.,\n",
              "         1.]],\n",
              "\n",
              "       [[0., 1., 1., 0., 0., 1., 1., 0., 0., 0., 0., 0., 0., 0., 0., 0.,\n",
              "         0.],\n",
              "        [0., 0., 0., 1., 0., 0., 0., 0., 0., 0., 0., 0., 0., 0., 0., 0.,\n",
              "         0.],\n",
              "        [0., 0., 0., 0., 1., 0., 0., 0., 0., 0., 0., 0., 0., 0., 0., 0.,\n",
              "         0.],\n",
              "        [0., 0., 0., 0., 0., 0., 0., 0., 0., 0., 0., 0., 0., 0., 0., 0.,\n",
              "         0.],\n",
              "        [0., 0., 0., 0., 0., 0., 0., 0., 0., 0., 0., 0., 0., 0., 0., 0.,\n",
              "         0.],\n",
              "        [0., 0., 0., 0., 0., 0., 0., 1., 0., 0., 0., 1., 0., 0., 0., 0.,\n",
              "         0.],\n",
              "        [0., 0., 0., 0., 0., 1., 0., 0., 1., 0., 0., 0., 1., 0., 0., 0.,\n",
              "         0.],\n",
              "        [0., 0., 0., 0., 0., 0., 0., 0., 0., 1., 0., 0., 0., 0., 0., 0.,\n",
              "         0.],\n",
              "        [0., 0., 0., 0., 0., 0., 0., 0., 0., 0., 1., 0., 0., 0., 0., 0.,\n",
              "         0.],\n",
              "        [0., 0., 0., 0., 0., 0., 0., 0., 0., 0., 0., 0., 0., 0., 0., 0.,\n",
              "         0.],\n",
              "        [0., 0., 0., 0., 0., 0., 0., 0., 0., 0., 0., 0., 0., 0., 0., 0.,\n",
              "         0.],\n",
              "        [0., 0., 0., 0., 0., 0., 0., 0., 0., 0., 0., 0., 0., 1., 0., 0.,\n",
              "         0.],\n",
              "        [0., 0., 0., 0., 0., 0., 0., 0., 0., 0., 0., 1., 0., 0., 1., 0.,\n",
              "         0.],\n",
              "        [0., 0., 0., 0., 0., 0., 0., 0., 0., 0., 0., 0., 0., 0., 0., 1.,\n",
              "         0.],\n",
              "        [0., 0., 0., 0., 0., 0., 0., 0., 0., 0., 0., 0., 0., 0., 0., 0.,\n",
              "         1.],\n",
              "        [0., 0., 0., 0., 0., 0., 0., 0., 0., 0., 0., 0., 0., 0., 0., 0.,\n",
              "         0.],\n",
              "        [0., 0., 0., 0., 0., 0., 0., 0., 0., 0., 0., 0., 0., 0., 0., 0.,\n",
              "         0.]],\n",
              "\n",
              "       [[0., 0., 0., 0., 0., 0., 0., 0., 0., 0., 0., 0., 0., 0., 0., 0.,\n",
              "         0.],\n",
              "        [1., 0., 0., 0., 0., 0., 0., 0., 0., 0., 0., 0., 0., 0., 0., 0.,\n",
              "         0.],\n",
              "        [1., 0., 0., 0., 0., 0., 0., 0., 0., 0., 0., 0., 0., 0., 0., 0.,\n",
              "         0.],\n",
              "        [0., 1., 0., 0., 0., 0., 0., 0., 0., 0., 0., 0., 0., 0., 0., 0.,\n",
              "         0.],\n",
              "        [0., 0., 1., 0., 0., 0., 0., 0., 0., 0., 0., 0., 0., 0., 0., 0.,\n",
              "         0.],\n",
              "        [1., 0., 0., 0., 0., 0., 1., 0., 0., 0., 0., 0., 0., 0., 0., 0.,\n",
              "         0.],\n",
              "        [1., 0., 0., 0., 0., 0., 0., 0., 0., 0., 0., 0., 0., 0., 0., 0.,\n",
              "         0.],\n",
              "        [0., 0., 0., 0., 0., 1., 0., 0., 0., 0., 0., 0., 0., 0., 0., 0.,\n",
              "         0.],\n",
              "        [0., 0., 0., 0., 0., 0., 1., 0., 0., 0., 0., 0., 0., 0., 0., 0.,\n",
              "         0.],\n",
              "        [0., 0., 0., 0., 0., 0., 0., 1., 0., 0., 0., 0., 0., 0., 0., 0.,\n",
              "         0.],\n",
              "        [0., 0., 0., 0., 0., 0., 0., 0., 1., 0., 0., 0., 0., 0., 0., 0.,\n",
              "         0.],\n",
              "        [0., 0., 0., 0., 0., 1., 0., 0., 0., 0., 0., 0., 1., 0., 0., 0.,\n",
              "         0.],\n",
              "        [0., 0., 0., 0., 0., 0., 1., 0., 0., 0., 0., 0., 0., 0., 0., 0.,\n",
              "         0.],\n",
              "        [0., 0., 0., 0., 0., 0., 0., 0., 0., 0., 0., 1., 0., 0., 0., 0.,\n",
              "         0.],\n",
              "        [0., 0., 0., 0., 0., 0., 0., 0., 0., 0., 0., 0., 1., 0., 0., 0.,\n",
              "         0.],\n",
              "        [0., 0., 0., 0., 0., 0., 0., 0., 0., 0., 0., 0., 0., 1., 0., 0.,\n",
              "         0.],\n",
              "        [0., 0., 0., 0., 0., 0., 0., 0., 0., 0., 0., 0., 0., 0., 1., 0.,\n",
              "         0.]]])"
            ]
          },
          "metadata": {},
          "execution_count": 16
        }
      ]
    }
  ]
}