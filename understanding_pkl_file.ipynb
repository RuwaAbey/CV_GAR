{
  "cells": [
    {
      "cell_type": "markdown",
      "metadata": {
        "id": "view-in-github",
        "colab_type": "text"
      },
      "source": [
        "<a href=\"https://colab.research.google.com/github/RuwaAbey/Finaly_Year_Project_G09/blob/main/understanding_pkl_file.ipynb\" target=\"_parent\"><img src=\"https://colab.research.google.com/assets/colab-badge.svg\" alt=\"Open In Colab\"/></a>"
      ]
    },
    {
      "cell_type": "code",
      "execution_count": 27,
      "metadata": {
        "colab": {
          "base_uri": "https://localhost:8080/"
        },
        "id": "O5mFJejAeDPO",
        "outputId": "cea0db49-993b-4d2a-8b09-056d1e0c1137"
      },
      "outputs": [
        {
          "output_type": "stream",
          "name": "stdout",
          "text": [
            "Drive already mounted at /content/drive; to attempt to forcibly remount, call drive.mount(\"/content/drive\", force_remount=True).\n"
          ]
        }
      ],
      "source": [
        "from google.colab import drive\n",
        "drive.mount('/content/drive')"
      ]
    },
    {
      "cell_type": "code",
      "execution_count": null,
      "metadata": {
        "colab": {
          "base_uri": "https://localhost:8080/"
        },
        "id": "m8dlGuxleJ0f",
        "outputId": "e9e31530-41c9-4cdf-dcff-e26aeabd3384"
      },
      "outputs": [
        {
          "name": "stdout",
          "output_type": "stream",
          "text": [
            "/content/drive/My Drive/G09_Final_Year_Project/pkl\n"
          ]
        }
      ],
      "source": [
        "%cd /content/drive/My\\ Drive/G09_Final_Year_Project/pkl"
      ]
    },
    {
      "cell_type": "markdown",
      "metadata": {
        "id": "L8ru6D6ff5fS"
      },
      "source": [
        "**Step 1: Load and Inspect the Pickle File**\n"
      ]
    },
    {
      "cell_type": "code",
      "execution_count": null,
      "metadata": {
        "colab": {
          "base_uri": "https://localhost:8080/"
        },
        "id": "dWvV_uGQfYbK",
        "outputId": "eba13117-93d8-4da7-e5da-a9c771554815"
      },
      "outputs": [
        {
          "name": "stdout",
          "output_type": "stream",
          "text": [
            "dict_keys(['split', 'annotations'])\n"
          ]
        }
      ],
      "source": [
        "import pickle\n",
        "\n",
        "# Load the pickle file\n",
        "with open('ntu60_hrnet.pkl', 'rb') as f:\n",
        "    data = pickle.load(f)\n",
        "\n",
        "# Check the top-level keys\n",
        "print(data.keys())  # Should print: ['split', 'annotations']\n"
      ]
    },
    {
      "cell_type": "markdown",
      "metadata": {
        "id": "4dEhzmDvgN_F"
      },
      "source": [
        "**Step 2: Understand the split Field**"
      ]
    },
    {
      "cell_type": "code",
      "execution_count": 29,
      "metadata": {
        "colab": {
          "base_uri": "https://localhost:8080/"
        },
        "id": "NgIOSWuRgUem",
        "outputId": "de30f737-9fce-4579-837d-dcee9fc5ff85"
      },
      "outputs": [
        {
          "output_type": "stream",
          "name": "stdout",
          "text": [
            "dict_keys(['xsub_train', 'xsub_val', 'xview_train', 'xview_val'])\n",
            "Number of training videos: 40091\n",
            "Sample training video ID: S001C001P001R001A001\n"
          ]
        }
      ],
      "source": [
        "# Access the split field\n",
        "splits = data['split']\n",
        "\n",
        "# Check split names\n",
        "print(splits.keys())\n",
        "\n",
        "# List video identifiers for the training split\n",
        "train_videos = splits['xsub_train']\n",
        "print(f\"Number of training videos: {len(train_videos)}\")\n",
        "print(f\"Sample training video ID: {train_videos[0]}\")\n"
      ]
    },
    {
      "cell_type": "code",
      "source": [
        "# Access the first video in the 'xsub_train' split\n",
        "first_train_video = data['split']['xsub_train'][0]\n",
        "print(f\"First training video ID in xsub_train: {first_train_video}\")\n",
        "\n",
        "# Access the first video in the 'xsub_val' split\n",
        "first_train_video = data['split']['xsub_val'][0]\n",
        "print(f\"First training video ID in xsub_val: {first_train_video}\")\n",
        "\n",
        "# Access the first video in the 'xview_train' split\n",
        "first_train_video = data['split']['xview_train'][0]\n",
        "print(f\"First training video ID in xview_train: {first_train_video}\")\n",
        "\n",
        "# Access the first video in the 'xview_val' split\n",
        "first_train_video = data['split']['xview_val'][0]\n",
        "print(f\"First training video ID in xview_val: {first_train_video}\")\n"
      ],
      "metadata": {
        "colab": {
          "base_uri": "https://localhost:8080/"
        },
        "id": "oFbwIv5fjdVc",
        "outputId": "8bcb0416-4cac-4754-fb37-f9c086b6f2c9"
      },
      "execution_count": 41,
      "outputs": [
        {
          "output_type": "stream",
          "name": "stdout",
          "text": [
            "First training video ID in xsub_train: S001C001P001R001A001\n",
            "First training video ID in xsub_val: S001C001P003R001A001\n",
            "First training video ID in xview_train: S001C002P001R001A001\n",
            "First training video ID in xview_val: S001C001P001R001A001\n"
          ]
        }
      ]
    },
    {
      "cell_type": "markdown",
      "source": [
        "***Step 2: Understand the annotation Field***"
      ],
      "metadata": {
        "id": "PP1y62_UkUtR"
      }
    },
    {
      "cell_type": "code",
      "source": [
        "annotations_sample = data['annotations'][:1]\n",
        "print(annotations_sample)"
      ],
      "metadata": {
        "colab": {
          "base_uri": "https://localhost:8080/"
        },
        "id": "M_Rgx1p_jF3G",
        "outputId": "b0ecd31a-babc-49af-b8bd-40453d2dd3da"
      },
      "execution_count": 35,
      "outputs": [
        {
          "output_type": "stream",
          "name": "stdout",
          "text": [
            "[{'frame_dir': 'S001C001P001R001A001', 'label': 0, 'img_shape': (1080, 1920), 'original_shape': (1080, 1920), 'total_frames': 103, 'keypoint': array([[[[1032. ,  334.8],\n",
            "         [1041. ,  325.8],\n",
            "         [1023.5,  325.8],\n",
            "         ...,\n",
            "         [1028. ,  611.5],\n",
            "         [1063. ,  704. ],\n",
            "         [1037. ,  695. ]],\n",
            "\n",
            "        [[1032. ,  334. ],\n",
            "         [1041. ,  325. ],\n",
            "         [1023. ,  325. ],\n",
            "         ...,\n",
            "         [1027. ,  612.5],\n",
            "         [1063. ,  707. ],\n",
            "         [1036. ,  693.5]],\n",
            "\n",
            "        [[1032. ,  334. ],\n",
            "         [1041. ,  325. ],\n",
            "         [1023. ,  325. ],\n",
            "         ...,\n",
            "         [1027. ,  612.5],\n",
            "         [1063. ,  707. ],\n",
            "         [1036. ,  698. ]],\n",
            "\n",
            "        ...,\n",
            "\n",
            "        [[1037. ,  321.8],\n",
            "         [1050. ,  317.5],\n",
            "         [1033. ,  313. ],\n",
            "         ...,\n",
            "         [1028. ,  612. ],\n",
            "         [1064. ,  704. ],\n",
            "         [1037. ,  695.5]],\n",
            "\n",
            "        [[1039. ,  324. ],\n",
            "         [1048. ,  315.2],\n",
            "         [1035. ,  315.2],\n",
            "         ...,\n",
            "         [1030. ,  611. ],\n",
            "         [1066. ,  703.5],\n",
            "         [1039. ,  695. ]],\n",
            "\n",
            "        [[1037. ,  322. ],\n",
            "         [1050. ,  317.5],\n",
            "         [1033. ,  313.2],\n",
            "         ...,\n",
            "         [1028. ,  613.5],\n",
            "         [1064. ,  701.5],\n",
            "         [1037. ,  697. ]]]], dtype=float16), 'keypoint_score': array([[[0.934 , 0.9766, 0.9736, ..., 0.876 , 0.8857, 0.892 ],\n",
            "        [0.9546, 0.993 , 0.989 , ..., 0.877 , 0.9043, 0.9014],\n",
            "        [0.9536, 0.9937, 0.988 , ..., 0.8867, 0.907 , 0.903 ],\n",
            "        ...,\n",
            "        [0.9365, 0.9043, 0.9414, ..., 0.8955, 0.888 , 0.9033],\n",
            "        [0.9585, 0.9385, 0.939 , ..., 0.8984, 0.9126, 0.9146],\n",
            "        [0.9395, 0.904 , 0.9453, ..., 0.898 , 0.8813, 0.886 ]]],\n",
            "      dtype=float16)}]\n"
          ]
        }
      ]
    }
  ],
  "metadata": {
    "accelerator": "GPU",
    "colab": {
      "gpuType": "T4",
      "provenance": [],
      "authorship_tag": "ABX9TyOyeHp3szz1PO2XmxbTNEpE",
      "include_colab_link": true
    },
    "kernelspec": {
      "display_name": "Python 3",
      "name": "python3"
    },
    "language_info": {
      "name": "python"
    }
  },
  "nbformat": 4,
  "nbformat_minor": 0
}